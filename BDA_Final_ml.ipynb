{
  "nbformat": 4,
  "nbformat_minor": 0,
  "metadata": {
    "colab": {
      "provenance": []
    },
    "kernelspec": {
      "name": "python3",
      "display_name": "Python 3"
    },
    "language_info": {
      "name": "python"
    }
  },
  "cells": [
    {
      "cell_type": "code",
      "execution_count": null,
      "metadata": {
        "colab": {
          "base_uri": "https://localhost:8080/"
        },
        "id": "N4sqXlr7BkGX",
        "outputId": "52bdd421-4fe0-4d83-a553-f5d8507d34d9"
      },
      "outputs": [
        {
          "output_type": "stream",
          "name": "stdout",
          "text": [
            "Collecting pyspark\n",
            "  Downloading pyspark-3.5.0.tar.gz (316.9 MB)\n",
            "\u001b[2K     \u001b[90m━━━━━━━━━━━━━━━━━━━━━━━━━━━━━━━━━━━━━━━━\u001b[0m \u001b[32m316.9/316.9 MB\u001b[0m \u001b[31m3.3 MB/s\u001b[0m eta \u001b[36m0:00:00\u001b[0m\n",
            "\u001b[?25h  Preparing metadata (setup.py) ... \u001b[?25l\u001b[?25hdone\n",
            "Requirement already satisfied: py4j==0.10.9.7 in /usr/local/lib/python3.10/dist-packages (from pyspark) (0.10.9.7)\n",
            "Building wheels for collected packages: pyspark\n",
            "  Building wheel for pyspark (setup.py) ... \u001b[?25l\u001b[?25hdone\n",
            "  Created wheel for pyspark: filename=pyspark-3.5.0-py2.py3-none-any.whl size=317425345 sha256=dd9f9df9ba960b8fedceeb49aad7f504fbf818ced4199704e5ad947221c07b1a\n",
            "  Stored in directory: /root/.cache/pip/wheels/41/4e/10/c2cf2467f71c678cfc8a6b9ac9241e5e44a01940da8fbb17fc\n",
            "Successfully built pyspark\n",
            "Installing collected packages: pyspark\n",
            "Successfully installed pyspark-3.5.0\n"
          ]
        }
      ],
      "source": [
        "!pip install pyspark"
      ]
    },
    {
      "cell_type": "code",
      "source": [
        "import numpy\n",
        "import pandas as pd\n",
        "import matplotlib.pyplot as plt\n",
        "import seaborn as sns"
      ],
      "metadata": {
        "id": "nHUnbL4FBtZr"
      },
      "execution_count": null,
      "outputs": []
    },
    {
      "cell_type": "code",
      "source": [
        "df=pd.read_csv(\"city_day.csv\")\n",
        "df.head(5)"
      ],
      "metadata": {
        "colab": {
          "base_uri": "https://localhost:8080/",
          "height": 206
        },
        "id": "cxOg4QfGB2xZ",
        "outputId": "5c1f1fa8-b174-4c6c-a1d6-6331311cebd2"
      },
      "execution_count": null,
      "outputs": [
        {
          "output_type": "execute_result",
          "data": {
            "text/plain": [
              "        City        Date  PM2  PM10     NO    NO2    NOx  NH3     CO    SO2  \\\n",
              "0  Ahmedabad  01-01-2015  NaN   NaN   0.92  18.22  17.15  NaN   0.92  27.64   \n",
              "1  Ahmedabad  02-01-2015  NaN   NaN   0.97  15.69  16.46  NaN   0.97  24.55   \n",
              "2  Ahmedabad  03-01-2015  NaN   NaN  17.40  19.30  29.70  NaN  17.40  29.07   \n",
              "3  Ahmedabad  04-01-2015  NaN   NaN   1.70  18.48  17.97  NaN   1.70  18.59   \n",
              "4  Ahmedabad  05-01-2015  NaN   NaN  22.10  21.42  37.76  NaN  22.10  39.33   \n",
              "\n",
              "       O3  Benzene  Toluene  Xylene  AQI Air_quality  \n",
              "0  133.36     0.00     0.02    0.00  NaN         NaN  \n",
              "1   34.06     3.68     5.50    3.77  NaN         NaN  \n",
              "2   30.70     6.80    16.40    2.25  NaN         NaN  \n",
              "3   36.08     4.43    10.14    1.00  NaN         NaN  \n",
              "4   39.31     7.01    18.89    2.78  NaN         NaN  "
            ],
            "text/html": [
              "\n",
              "  <div id=\"df-48412616-d7f8-4dba-9c04-af14a874dd55\" class=\"colab-df-container\">\n",
              "    <div>\n",
              "<style scoped>\n",
              "    .dataframe tbody tr th:only-of-type {\n",
              "        vertical-align: middle;\n",
              "    }\n",
              "\n",
              "    .dataframe tbody tr th {\n",
              "        vertical-align: top;\n",
              "    }\n",
              "\n",
              "    .dataframe thead th {\n",
              "        text-align: right;\n",
              "    }\n",
              "</style>\n",
              "<table border=\"1\" class=\"dataframe\">\n",
              "  <thead>\n",
              "    <tr style=\"text-align: right;\">\n",
              "      <th></th>\n",
              "      <th>City</th>\n",
              "      <th>Date</th>\n",
              "      <th>PM2</th>\n",
              "      <th>PM10</th>\n",
              "      <th>NO</th>\n",
              "      <th>NO2</th>\n",
              "      <th>NOx</th>\n",
              "      <th>NH3</th>\n",
              "      <th>CO</th>\n",
              "      <th>SO2</th>\n",
              "      <th>O3</th>\n",
              "      <th>Benzene</th>\n",
              "      <th>Toluene</th>\n",
              "      <th>Xylene</th>\n",
              "      <th>AQI</th>\n",
              "      <th>Air_quality</th>\n",
              "    </tr>\n",
              "  </thead>\n",
              "  <tbody>\n",
              "    <tr>\n",
              "      <th>0</th>\n",
              "      <td>Ahmedabad</td>\n",
              "      <td>01-01-2015</td>\n",
              "      <td>NaN</td>\n",
              "      <td>NaN</td>\n",
              "      <td>0.92</td>\n",
              "      <td>18.22</td>\n",
              "      <td>17.15</td>\n",
              "      <td>NaN</td>\n",
              "      <td>0.92</td>\n",
              "      <td>27.64</td>\n",
              "      <td>133.36</td>\n",
              "      <td>0.00</td>\n",
              "      <td>0.02</td>\n",
              "      <td>0.00</td>\n",
              "      <td>NaN</td>\n",
              "      <td>NaN</td>\n",
              "    </tr>\n",
              "    <tr>\n",
              "      <th>1</th>\n",
              "      <td>Ahmedabad</td>\n",
              "      <td>02-01-2015</td>\n",
              "      <td>NaN</td>\n",
              "      <td>NaN</td>\n",
              "      <td>0.97</td>\n",
              "      <td>15.69</td>\n",
              "      <td>16.46</td>\n",
              "      <td>NaN</td>\n",
              "      <td>0.97</td>\n",
              "      <td>24.55</td>\n",
              "      <td>34.06</td>\n",
              "      <td>3.68</td>\n",
              "      <td>5.50</td>\n",
              "      <td>3.77</td>\n",
              "      <td>NaN</td>\n",
              "      <td>NaN</td>\n",
              "    </tr>\n",
              "    <tr>\n",
              "      <th>2</th>\n",
              "      <td>Ahmedabad</td>\n",
              "      <td>03-01-2015</td>\n",
              "      <td>NaN</td>\n",
              "      <td>NaN</td>\n",
              "      <td>17.40</td>\n",
              "      <td>19.30</td>\n",
              "      <td>29.70</td>\n",
              "      <td>NaN</td>\n",
              "      <td>17.40</td>\n",
              "      <td>29.07</td>\n",
              "      <td>30.70</td>\n",
              "      <td>6.80</td>\n",
              "      <td>16.40</td>\n",
              "      <td>2.25</td>\n",
              "      <td>NaN</td>\n",
              "      <td>NaN</td>\n",
              "    </tr>\n",
              "    <tr>\n",
              "      <th>3</th>\n",
              "      <td>Ahmedabad</td>\n",
              "      <td>04-01-2015</td>\n",
              "      <td>NaN</td>\n",
              "      <td>NaN</td>\n",
              "      <td>1.70</td>\n",
              "      <td>18.48</td>\n",
              "      <td>17.97</td>\n",
              "      <td>NaN</td>\n",
              "      <td>1.70</td>\n",
              "      <td>18.59</td>\n",
              "      <td>36.08</td>\n",
              "      <td>4.43</td>\n",
              "      <td>10.14</td>\n",
              "      <td>1.00</td>\n",
              "      <td>NaN</td>\n",
              "      <td>NaN</td>\n",
              "    </tr>\n",
              "    <tr>\n",
              "      <th>4</th>\n",
              "      <td>Ahmedabad</td>\n",
              "      <td>05-01-2015</td>\n",
              "      <td>NaN</td>\n",
              "      <td>NaN</td>\n",
              "      <td>22.10</td>\n",
              "      <td>21.42</td>\n",
              "      <td>37.76</td>\n",
              "      <td>NaN</td>\n",
              "      <td>22.10</td>\n",
              "      <td>39.33</td>\n",
              "      <td>39.31</td>\n",
              "      <td>7.01</td>\n",
              "      <td>18.89</td>\n",
              "      <td>2.78</td>\n",
              "      <td>NaN</td>\n",
              "      <td>NaN</td>\n",
              "    </tr>\n",
              "  </tbody>\n",
              "</table>\n",
              "</div>\n",
              "    <div class=\"colab-df-buttons\">\n",
              "\n",
              "  <div class=\"colab-df-container\">\n",
              "    <button class=\"colab-df-convert\" onclick=\"convertToInteractive('df-48412616-d7f8-4dba-9c04-af14a874dd55')\"\n",
              "            title=\"Convert this dataframe to an interactive table.\"\n",
              "            style=\"display:none;\">\n",
              "\n",
              "  <svg xmlns=\"http://www.w3.org/2000/svg\" height=\"24px\" viewBox=\"0 -960 960 960\">\n",
              "    <path d=\"M120-120v-720h720v720H120Zm60-500h600v-160H180v160Zm220 220h160v-160H400v160Zm0 220h160v-160H400v160ZM180-400h160v-160H180v160Zm440 0h160v-160H620v160ZM180-180h160v-160H180v160Zm440 0h160v-160H620v160Z\"/>\n",
              "  </svg>\n",
              "    </button>\n",
              "\n",
              "  <style>\n",
              "    .colab-df-container {\n",
              "      display:flex;\n",
              "      gap: 12px;\n",
              "    }\n",
              "\n",
              "    .colab-df-convert {\n",
              "      background-color: #E8F0FE;\n",
              "      border: none;\n",
              "      border-radius: 50%;\n",
              "      cursor: pointer;\n",
              "      display: none;\n",
              "      fill: #1967D2;\n",
              "      height: 32px;\n",
              "      padding: 0 0 0 0;\n",
              "      width: 32px;\n",
              "    }\n",
              "\n",
              "    .colab-df-convert:hover {\n",
              "      background-color: #E2EBFA;\n",
              "      box-shadow: 0px 1px 2px rgba(60, 64, 67, 0.3), 0px 1px 3px 1px rgba(60, 64, 67, 0.15);\n",
              "      fill: #174EA6;\n",
              "    }\n",
              "\n",
              "    .colab-df-buttons div {\n",
              "      margin-bottom: 4px;\n",
              "    }\n",
              "\n",
              "    [theme=dark] .colab-df-convert {\n",
              "      background-color: #3B4455;\n",
              "      fill: #D2E3FC;\n",
              "    }\n",
              "\n",
              "    [theme=dark] .colab-df-convert:hover {\n",
              "      background-color: #434B5C;\n",
              "      box-shadow: 0px 1px 3px 1px rgba(0, 0, 0, 0.15);\n",
              "      filter: drop-shadow(0px 1px 2px rgba(0, 0, 0, 0.3));\n",
              "      fill: #FFFFFF;\n",
              "    }\n",
              "  </style>\n",
              "\n",
              "    <script>\n",
              "      const buttonEl =\n",
              "        document.querySelector('#df-48412616-d7f8-4dba-9c04-af14a874dd55 button.colab-df-convert');\n",
              "      buttonEl.style.display =\n",
              "        google.colab.kernel.accessAllowed ? 'block' : 'none';\n",
              "\n",
              "      async function convertToInteractive(key) {\n",
              "        const element = document.querySelector('#df-48412616-d7f8-4dba-9c04-af14a874dd55');\n",
              "        const dataTable =\n",
              "          await google.colab.kernel.invokeFunction('convertToInteractive',\n",
              "                                                    [key], {});\n",
              "        if (!dataTable) return;\n",
              "\n",
              "        const docLinkHtml = 'Like what you see? Visit the ' +\n",
              "          '<a target=\"_blank\" href=https://colab.research.google.com/notebooks/data_table.ipynb>data table notebook</a>'\n",
              "          + ' to learn more about interactive tables.';\n",
              "        element.innerHTML = '';\n",
              "        dataTable['output_type'] = 'display_data';\n",
              "        await google.colab.output.renderOutput(dataTable, element);\n",
              "        const docLink = document.createElement('div');\n",
              "        docLink.innerHTML = docLinkHtml;\n",
              "        element.appendChild(docLink);\n",
              "      }\n",
              "    </script>\n",
              "  </div>\n",
              "\n",
              "\n",
              "<div id=\"df-9061e978-ebd0-4d99-8aea-801e04a15e85\">\n",
              "  <button class=\"colab-df-quickchart\" onclick=\"quickchart('df-9061e978-ebd0-4d99-8aea-801e04a15e85')\"\n",
              "            title=\"Suggest charts\"\n",
              "            style=\"display:none;\">\n",
              "\n",
              "<svg xmlns=\"http://www.w3.org/2000/svg\" height=\"24px\"viewBox=\"0 0 24 24\"\n",
              "     width=\"24px\">\n",
              "    <g>\n",
              "        <path d=\"M19 3H5c-1.1 0-2 .9-2 2v14c0 1.1.9 2 2 2h14c1.1 0 2-.9 2-2V5c0-1.1-.9-2-2-2zM9 17H7v-7h2v7zm4 0h-2V7h2v10zm4 0h-2v-4h2v4z\"/>\n",
              "    </g>\n",
              "</svg>\n",
              "  </button>\n",
              "\n",
              "<style>\n",
              "  .colab-df-quickchart {\n",
              "      --bg-color: #E8F0FE;\n",
              "      --fill-color: #1967D2;\n",
              "      --hover-bg-color: #E2EBFA;\n",
              "      --hover-fill-color: #174EA6;\n",
              "      --disabled-fill-color: #AAA;\n",
              "      --disabled-bg-color: #DDD;\n",
              "  }\n",
              "\n",
              "  [theme=dark] .colab-df-quickchart {\n",
              "      --bg-color: #3B4455;\n",
              "      --fill-color: #D2E3FC;\n",
              "      --hover-bg-color: #434B5C;\n",
              "      --hover-fill-color: #FFFFFF;\n",
              "      --disabled-bg-color: #3B4455;\n",
              "      --disabled-fill-color: #666;\n",
              "  }\n",
              "\n",
              "  .colab-df-quickchart {\n",
              "    background-color: var(--bg-color);\n",
              "    border: none;\n",
              "    border-radius: 50%;\n",
              "    cursor: pointer;\n",
              "    display: none;\n",
              "    fill: var(--fill-color);\n",
              "    height: 32px;\n",
              "    padding: 0;\n",
              "    width: 32px;\n",
              "  }\n",
              "\n",
              "  .colab-df-quickchart:hover {\n",
              "    background-color: var(--hover-bg-color);\n",
              "    box-shadow: 0 1px 2px rgba(60, 64, 67, 0.3), 0 1px 3px 1px rgba(60, 64, 67, 0.15);\n",
              "    fill: var(--button-hover-fill-color);\n",
              "  }\n",
              "\n",
              "  .colab-df-quickchart-complete:disabled,\n",
              "  .colab-df-quickchart-complete:disabled:hover {\n",
              "    background-color: var(--disabled-bg-color);\n",
              "    fill: var(--disabled-fill-color);\n",
              "    box-shadow: none;\n",
              "  }\n",
              "\n",
              "  .colab-df-spinner {\n",
              "    border: 2px solid var(--fill-color);\n",
              "    border-color: transparent;\n",
              "    border-bottom-color: var(--fill-color);\n",
              "    animation:\n",
              "      spin 1s steps(1) infinite;\n",
              "  }\n",
              "\n",
              "  @keyframes spin {\n",
              "    0% {\n",
              "      border-color: transparent;\n",
              "      border-bottom-color: var(--fill-color);\n",
              "      border-left-color: var(--fill-color);\n",
              "    }\n",
              "    20% {\n",
              "      border-color: transparent;\n",
              "      border-left-color: var(--fill-color);\n",
              "      border-top-color: var(--fill-color);\n",
              "    }\n",
              "    30% {\n",
              "      border-color: transparent;\n",
              "      border-left-color: var(--fill-color);\n",
              "      border-top-color: var(--fill-color);\n",
              "      border-right-color: var(--fill-color);\n",
              "    }\n",
              "    40% {\n",
              "      border-color: transparent;\n",
              "      border-right-color: var(--fill-color);\n",
              "      border-top-color: var(--fill-color);\n",
              "    }\n",
              "    60% {\n",
              "      border-color: transparent;\n",
              "      border-right-color: var(--fill-color);\n",
              "    }\n",
              "    80% {\n",
              "      border-color: transparent;\n",
              "      border-right-color: var(--fill-color);\n",
              "      border-bottom-color: var(--fill-color);\n",
              "    }\n",
              "    90% {\n",
              "      border-color: transparent;\n",
              "      border-bottom-color: var(--fill-color);\n",
              "    }\n",
              "  }\n",
              "</style>\n",
              "\n",
              "  <script>\n",
              "    async function quickchart(key) {\n",
              "      const quickchartButtonEl =\n",
              "        document.querySelector('#' + key + ' button');\n",
              "      quickchartButtonEl.disabled = true;  // To prevent multiple clicks.\n",
              "      quickchartButtonEl.classList.add('colab-df-spinner');\n",
              "      try {\n",
              "        const charts = await google.colab.kernel.invokeFunction(\n",
              "            'suggestCharts', [key], {});\n",
              "      } catch (error) {\n",
              "        console.error('Error during call to suggestCharts:', error);\n",
              "      }\n",
              "      quickchartButtonEl.classList.remove('colab-df-spinner');\n",
              "      quickchartButtonEl.classList.add('colab-df-quickchart-complete');\n",
              "    }\n",
              "    (() => {\n",
              "      let quickchartButtonEl =\n",
              "        document.querySelector('#df-9061e978-ebd0-4d99-8aea-801e04a15e85 button');\n",
              "      quickchartButtonEl.style.display =\n",
              "        google.colab.kernel.accessAllowed ? 'block' : 'none';\n",
              "    })();\n",
              "  </script>\n",
              "</div>\n",
              "\n",
              "    </div>\n",
              "  </div>\n"
            ]
          },
          "metadata": {},
          "execution_count": 3
        }
      ]
    },
    {
      "cell_type": "code",
      "source": [
        "import pandas as pd\n",
        "\n",
        "# Assuming you've loaded the CSV file into a DataFrame\n",
        "df = pd.read_csv(\"city_day.csv\")\n",
        "\n",
        "# Display rows with complete data (no missing values)\n",
        "df_complete_rows = df.dropna()\n",
        "\n",
        "# Print the first 5 rows of the DataFrame with complete rows\n",
        "print(df_complete_rows.head(5))\n"
      ],
      "metadata": {
        "colab": {
          "base_uri": "https://localhost:8080/"
        },
        "id": "y-jdpLQzSBwN",
        "outputId": "d0a230ec-d065-4efa-bc02-670090c6e4e3"
      },
      "execution_count": null,
      "outputs": [
        {
          "output_type": "stream",
          "name": "stdout",
          "text": [
            "           City        Date    PM2    PM10    NO    NO2    NOx    NH3    CO  \\\n",
            "2123  Amaravati  25-11-2017  81.40  124.50  1.44  20.50  12.08  10.72  0.12   \n",
            "2124  Amaravati  26-11-2017  78.32  129.06  1.26  26.00  14.85  10.28  0.14   \n",
            "2125  Amaravati  27-11-2017  88.76  135.32  6.60  30.85  21.77  12.91  0.11   \n",
            "2126  Amaravati  28-11-2017  64.18  104.09  2.56  28.07  17.01  11.42  0.09   \n",
            "2127  Amaravati  29-11-2017  72.47  114.84  5.23  23.20  16.59  12.25  0.16   \n",
            "\n",
            "        SO2      O3  Benzene  Toluene  Xylene    AQI Air_quality  \n",
            "2123  15.24  127.09     0.20     6.50    0.06  184.0    Moderate  \n",
            "2124  26.96  117.44     0.22     7.95    0.08  197.0    Moderate  \n",
            "2125  33.59  111.81     0.29     7.63    0.12  198.0    Moderate  \n",
            "2126  19.00  138.18     0.17     5.02    0.07  188.0    Moderate  \n",
            "2127  10.55  109.74     0.21     4.71    0.08  173.0    Moderate  \n"
          ]
        }
      ]
    },
    {
      "cell_type": "code",
      "source": [
        "df.info()"
      ],
      "metadata": {
        "colab": {
          "base_uri": "https://localhost:8080/"
        },
        "id": "ZZftsz72B20L",
        "outputId": "4163c966-a6ab-4034-e1a2-43de07aa4a40"
      },
      "execution_count": null,
      "outputs": [
        {
          "output_type": "stream",
          "name": "stdout",
          "text": [
            "<class 'pandas.core.frame.DataFrame'>\n",
            "RangeIndex: 29531 entries, 0 to 29530\n",
            "Data columns (total 16 columns):\n",
            " #   Column       Non-Null Count  Dtype  \n",
            "---  ------       --------------  -----  \n",
            " 0   City         29531 non-null  object \n",
            " 1   Date         29531 non-null  object \n",
            " 2   PM2          24933 non-null  float64\n",
            " 3   PM10         18391 non-null  float64\n",
            " 4   NO           25949 non-null  float64\n",
            " 5   NO2          25946 non-null  float64\n",
            " 6   NOx          25346 non-null  float64\n",
            " 7   NH3          19203 non-null  float64\n",
            " 8   CO           27472 non-null  float64\n",
            " 9   SO2          25677 non-null  float64\n",
            " 10  O3           25509 non-null  float64\n",
            " 11  Benzene      23908 non-null  float64\n",
            " 12  Toluene      21490 non-null  float64\n",
            " 13  Xylene       11422 non-null  float64\n",
            " 14  AQI          24850 non-null  float64\n",
            " 15  Air_quality  24850 non-null  object \n",
            "dtypes: float64(13), object(3)\n",
            "memory usage: 3.6+ MB\n"
          ]
        }
      ]
    },
    {
      "cell_type": "code",
      "source": [
        "print(\"Shape of the DataFrame:\", df.shape)"
      ],
      "metadata": {
        "colab": {
          "base_uri": "https://localhost:8080/"
        },
        "id": "i0uJReriB_5C",
        "outputId": "b669eac5-b835-467f-c6de-1e3c10b60459"
      },
      "execution_count": null,
      "outputs": [
        {
          "output_type": "stream",
          "name": "stdout",
          "text": [
            "Shape of the DataFrame: (29531, 16)\n"
          ]
        }
      ]
    },
    {
      "cell_type": "code",
      "source": [
        "df = df.drop(columns=['City','Date'])\n",
        "target = df.loc[:,'Air_quality']"
      ],
      "metadata": {
        "id": "P0Mcr_BMCClA"
      },
      "execution_count": null,
      "outputs": []
    },
    {
      "cell_type": "code",
      "source": [
        "non_null_counts = pd.DataFrame([(column, df[column].count()) for column in df.columns], columns=['Column', 'NonNullCount'])\n",
        "print(non_null_counts)"
      ],
      "metadata": {
        "colab": {
          "base_uri": "https://localhost:8080/"
        },
        "id": "xDOl2626CGgx",
        "outputId": "7205870a-f26b-4fd6-92fa-28737103e102"
      },
      "execution_count": null,
      "outputs": [
        {
          "output_type": "stream",
          "name": "stdout",
          "text": [
            "         Column  NonNullCount\n",
            "0           PM2         24933\n",
            "1          PM10         18391\n",
            "2            NO         25949\n",
            "3           NO2         25946\n",
            "4           NOx         25346\n",
            "5           NH3         19203\n",
            "6            CO         27472\n",
            "7           SO2         25677\n",
            "8            O3         25509\n",
            "9       Benzene         23908\n",
            "10      Toluene         21490\n",
            "11       Xylene         11422\n",
            "12          AQI         24850\n",
            "13  Air_quality         24850\n"
          ]
        }
      ]
    },
    {
      "cell_type": "code",
      "source": [
        "df['PM2']=df['PM2'].fillna((df['PM2'].median()))\n",
        "df['PM10']=df['PM10'].fillna((df['PM10'].median()))\n",
        "df['NO']=df['NO'].fillna((df['NO'].median()))\n",
        "df['NO2']=df['NO2'].fillna((df['NO2'].mean()))\n",
        "df['NOx']=df['NOx'].fillna((df['NOx'].mean()))\n",
        "df['NH3']=df['NH3'].fillna((df['NH3'].median()))\n",
        "df['CO']=df['CO'].fillna((df['CO'].mean()))\n",
        "df['SO2']=df['SO2'].fillna((df['SO2'].median()))\n",
        "df['O3']=df['O3'].fillna((df['O3'].median()))\n",
        "df['Benzene']=df['Benzene'].fillna((df['Benzene'].median()))\n",
        "df['Toluene']=df['Toluene'].fillna((df['Toluene'].median()))\n",
        "df['Xylene']=df['Xylene'].fillna((df['Xylene'].median()))\n",
        "df['AQI']=df['AQI'].fillna((df['AQI'].median()))\n",
        "df['Air_quality']=df['Air_quality'].fillna('Moderate')"
      ],
      "metadata": {
        "id": "Mw8PF3DnCIm5"
      },
      "execution_count": null,
      "outputs": []
    },
    {
      "cell_type": "code",
      "source": [
        "df.info()"
      ],
      "metadata": {
        "colab": {
          "base_uri": "https://localhost:8080/"
        },
        "id": "nW_AF8VsCNsx",
        "outputId": "f0b9e4e2-6438-415d-9029-71b0e2be0afc"
      },
      "execution_count": null,
      "outputs": [
        {
          "output_type": "stream",
          "name": "stdout",
          "text": [
            "<class 'pandas.core.frame.DataFrame'>\n",
            "RangeIndex: 29531 entries, 0 to 29530\n",
            "Data columns (total 14 columns):\n",
            " #   Column       Non-Null Count  Dtype  \n",
            "---  ------       --------------  -----  \n",
            " 0   PM2          29531 non-null  float64\n",
            " 1   PM10         29531 non-null  float64\n",
            " 2   NO           29531 non-null  float64\n",
            " 3   NO2          29531 non-null  float64\n",
            " 4   NOx          29531 non-null  float64\n",
            " 5   NH3          29531 non-null  float64\n",
            " 6   CO           29531 non-null  float64\n",
            " 7   SO2          29531 non-null  float64\n",
            " 8   O3           29531 non-null  float64\n",
            " 9   Benzene      29531 non-null  float64\n",
            " 10  Toluene      29531 non-null  float64\n",
            " 11  Xylene       29531 non-null  float64\n",
            " 12  AQI          29531 non-null  float64\n",
            " 13  Air_quality  29531 non-null  object \n",
            "dtypes: float64(13), object(1)\n",
            "memory usage: 3.2+ MB\n"
          ]
        }
      ]
    },
    {
      "cell_type": "code",
      "source": [
        "unique_aqi_buckets = df['Air_quality'].unique()\n",
        "print(unique_aqi_buckets)"
      ],
      "metadata": {
        "colab": {
          "base_uri": "https://localhost:8080/"
        },
        "id": "OOkqnt3MCPrU",
        "outputId": "a0ed4ee5-8351-4820-daa6-4ad3c12af47d"
      },
      "execution_count": null,
      "outputs": [
        {
          "output_type": "stream",
          "name": "stdout",
          "text": [
            "['Moderate' 'Poor' 'Very Poor' 'Severe' 'Satisfactory' 'Good']\n"
          ]
        }
      ]
    },
    {
      "cell_type": "code",
      "source": [
        "Air_quality = df['Air_quality'].value_counts()\n",
        "print(Air_quality)"
      ],
      "metadata": {
        "colab": {
          "base_uri": "https://localhost:8080/"
        },
        "id": "Uiu_6YpKCTE6",
        "outputId": "1ea48c86-fee4-420f-de94-f64db407873a"
      },
      "execution_count": null,
      "outputs": [
        {
          "output_type": "stream",
          "name": "stdout",
          "text": [
            "Moderate        13510\n",
            "Satisfactory     8224\n",
            "Poor             2781\n",
            "Very Poor        2337\n",
            "Good             1341\n",
            "Severe           1338\n",
            "Name: Air_quality, dtype: int64\n"
          ]
        }
      ]
    },
    {
      "cell_type": "code",
      "source": [
        "from imblearn.over_sampling import SMOTE\n",
        "sm = SMOTE(random_state=42)\n",
        "X_resampled, y_resampled = sm.fit_resample(df.drop('Air_quality', axis=1), df['Air_quality'])\n",
        "print(X_resampled.shape)\n",
        "print(y_resampled.shape)\n",
        "df_new = pd.concat([X_resampled, y_resampled], axis=1)\n",
        "df_new.head()\n",
        "df_new.info()"
      ],
      "metadata": {
        "colab": {
          "base_uri": "https://localhost:8080/"
        },
        "id": "G9rPFb9VFRzB",
        "outputId": "d19f1b6d-d6a4-4530-b43a-b6f1ae8211b9"
      },
      "execution_count": null,
      "outputs": [
        {
          "output_type": "stream",
          "name": "stdout",
          "text": [
            "(81060, 13)\n",
            "(81060,)\n",
            "<class 'pandas.core.frame.DataFrame'>\n",
            "RangeIndex: 81060 entries, 0 to 81059\n",
            "Data columns (total 14 columns):\n",
            " #   Column       Non-Null Count  Dtype  \n",
            "---  ------       --------------  -----  \n",
            " 0   PM2          81060 non-null  float64\n",
            " 1   PM10         81060 non-null  float64\n",
            " 2   NO           81060 non-null  float64\n",
            " 3   NO2          81060 non-null  float64\n",
            " 4   NOx          81060 non-null  float64\n",
            " 5   NH3          81060 non-null  float64\n",
            " 6   CO           81060 non-null  float64\n",
            " 7   SO2          81060 non-null  float64\n",
            " 8   O3           81060 non-null  float64\n",
            " 9   Benzene      81060 non-null  float64\n",
            " 10  Toluene      81060 non-null  float64\n",
            " 11  Xylene       81060 non-null  float64\n",
            " 12  AQI          81060 non-null  float64\n",
            " 13  Air_quality  81060 non-null  object \n",
            "dtypes: float64(13), object(1)\n",
            "memory usage: 8.7+ MB\n"
          ]
        }
      ]
    },
    {
      "cell_type": "code",
      "source": [
        "Air_quality = df_new['Air_quality'].value_counts()\n",
        "print(Air_quality)"
      ],
      "metadata": {
        "colab": {
          "base_uri": "https://localhost:8080/"
        },
        "id": "0U_ab23I1L0y",
        "outputId": "36bf5345-8e71-458a-8e7b-af752b354e18"
      },
      "execution_count": null,
      "outputs": [
        {
          "output_type": "stream",
          "name": "stdout",
          "text": [
            "Moderate        13510\n",
            "Poor            13510\n",
            "Very Poor       13510\n",
            "Severe          13510\n",
            "Satisfactory    13510\n",
            "Good            13510\n",
            "Name: Air_quality, dtype: int64\n"
          ]
        }
      ]
    },
    {
      "cell_type": "code",
      "source": [
        "from sklearn.feature_selection import SelectKBest\n",
        "from sklearn.feature_selection import chi2\n",
        "\n",
        "selector = SelectKBest(chi2, k=10)\n",
        "selector.fit(df_new.drop('Air_quality', axis=1), df_new['Air_quality'])\n",
        "selected_features = df_new.drop('Air_quality', axis=1).columns[selector.get_support()]\n",
        "print(selected_features)"
      ],
      "metadata": {
        "colab": {
          "base_uri": "https://localhost:8080/"
        },
        "id": "JhcIOkBvF4MG",
        "outputId": "2126efb5-c81e-4592-e12b-61a764da91b3"
      },
      "execution_count": null,
      "outputs": [
        {
          "output_type": "stream",
          "name": "stdout",
          "text": [
            "Index(['PM2', 'PM10', 'NO', 'NO2', 'NOx', 'CO', 'SO2', 'O3', 'Toluene', 'AQI'], dtype='object')\n"
          ]
        }
      ]
    },
    {
      "cell_type": "code",
      "source": [
        "from pyspark.sql import SparkSession\n",
        "from pyspark.ml.feature import VectorAssembler, StringIndexer\n",
        "from pyspark.ml.classification import LinearSVC, OneVsRest\n",
        "from pyspark.ml.evaluation import MulticlassClassificationEvaluator\n",
        "\n",
        "spark = SparkSession.builder.appName(\"spark\").getOrCreate()\n",
        "\n",
        "data = spark.createDataFrame(df_new)\n",
        "\n",
        "target_col = \"Air_quality\"\n",
        "feature_cols = selected_features\n",
        "\n",
        "indexer = StringIndexer(inputCol=target_col, outputCol=\"label\")\n",
        "data = indexer.fit(data).transform(data)\n",
        "\n",
        "vector_assembler = VectorAssembler(inputCols=feature_cols.tolist(), outputCol=\"features\")\n",
        "data = vector_assembler.transform(data)\n",
        "\n",
        "train_data, test_data = data.randomSplit([0.7, 0.3], seed=123)\n"
      ],
      "metadata": {
        "id": "h8TXn3YFGc9C"
      },
      "execution_count": null,
      "outputs": []
    },
    {
      "cell_type": "code",
      "source": [
        "train_count = train_data.count()\n",
        "\n",
        "test_count = test_data.count()\n",
        "\n",
        "print(\"Training set count:\", train_count)\n",
        "print(\"Testing set count:\", test_count)"
      ],
      "metadata": {
        "colab": {
          "base_uri": "https://localhost:8080/"
        },
        "id": "Fh130pwBenoq",
        "outputId": "b2f342a7-805d-45a9-8c91-69677d125be9"
      },
      "execution_count": null,
      "outputs": [
        {
          "output_type": "stream",
          "name": "stdout",
          "text": [
            "Training set count: 56756\n",
            "Testing set count: 24304\n"
          ]
        }
      ]
    },
    {
      "cell_type": "code",
      "source": [
        "test_data.groupBy(\"label\").count().show()"
      ],
      "metadata": {
        "colab": {
          "base_uri": "https://localhost:8080/"
        },
        "id": "VceTZB63gj3I",
        "outputId": "e1e840c9-fb8b-4651-f52e-6cdf4cab2b73"
      },
      "execution_count": null,
      "outputs": [
        {
          "output_type": "stream",
          "name": "stdout",
          "text": [
            "+-----+-----+\n",
            "|label|count|\n",
            "+-----+-----+\n",
            "|  0.0| 4089|\n",
            "|  1.0| 4070|\n",
            "|  4.0| 4018|\n",
            "|  3.0| 4076|\n",
            "|  2.0| 4029|\n",
            "|  5.0| 4022|\n",
            "+-----+-----+\n",
            "\n"
          ]
        }
      ]
    },
    {
      "cell_type": "code",
      "source": [
        "from pyspark.mllib.evaluation import MulticlassMetrics\n",
        "spark = SparkSession.builder.appName(\"SVMClassifier\").getOrCreate()\n",
        "# Create and train an SVM classifier using OneVsRest\n",
        "svm = LinearSVC(maxIter=50, tol=1e-4, labelCol=\"label\", featuresCol=\"features\")\n",
        "ovr_classifier = OneVsRest(classifier=svm,labelCol=\"label\", featuresCol=\"features\")\n",
        "\n",
        "\n",
        "# Train the OneVsRest classifier\n",
        "model = ovr_classifier.fit(train_data)\n",
        "\n",
        "# Make predictions on the test data\n",
        "predictions_svm = model.transform(test_data)\n",
        "\n",
        "# Evaluate the model using a MulticlassClassificationEvaluator\n",
        "evaluator = MulticlassClassificationEvaluator(\n",
        "    labelCol=\"label\", predictionCol=\"prediction\", metricName=\"f1\"\n",
        ")\n",
        "fm = evaluator.evaluate(predictions_svm)\n",
        "\n",
        "# Print the accuracy of the model\n",
        "print(f\"Avg-F-measure: {fm}\")\n",
        "\n",
        "# Use MulticlassMetrics to compute per-class metrics\n",
        "predictionAndLabels = predictions_svm.select(\"prediction\", \"label\").rdd\n",
        "metrics = MulticlassMetrics(predictionAndLabels)\n",
        "\n",
        "print(f\"Accuracy: {metrics.accuracy}\")\n",
        "# Print precision, recall, and F1 for each class\n",
        "print(\"Per-class metrics:\")\n",
        "for label in sorted(set(predictions_svm.select(\"label\").rdd.flatMap(lambda x: x).collect())):\n",
        "    print(f\"Class {label}:\")\n",
        "    print(f\"Precision: {metrics.precision(label)}\")\n",
        "    print(f\"Recall: {metrics.recall(label)}\")\n",
        "    print(f\"F1-score: {metrics.fMeasure(label)}\")\n",
        "    print()\n",
        "\n",
        "# Print the average metrics\n",
        "print(\"Average metrics:\")\n",
        "print(f\"Weighted precision: {metrics.weightedPrecision}\")\n",
        "print(f\"Weighted recall: {metrics.weightedRecall}\")\n",
        "print(f\"Weighted F1-score: {metrics.weightedFMeasure()}\")\n",
        "\n",
        "# Stop the Spark session\n",
        "#spark.stop()"
      ],
      "metadata": {
        "colab": {
          "base_uri": "https://localhost:8080/"
        },
        "id": "_WF__i_aCUrV",
        "outputId": "2ba3a740-7585-47c2-9d0c-24f9dcbbfd57"
      },
      "execution_count": null,
      "outputs": [
        {
          "output_type": "stream",
          "name": "stdout",
          "text": [
            "Avg-F-measure: 0.5389796377972252\n"
          ]
        },
        {
          "output_type": "stream",
          "name": "stderr",
          "text": [
            "/usr/local/lib/python3.10/dist-packages/pyspark/sql/context.py:158: FutureWarning: Deprecated in 3.0.0. Use SparkSession.builder.getOrCreate() instead.\n",
            "  warnings.warn(\n"
          ]
        },
        {
          "output_type": "stream",
          "name": "stdout",
          "text": [
            "Accuracy: 0.5639400921658986\n",
            "Per-class metrics:\n",
            "Class 0.0:\n",
            "Precision: 0.6972111553784861\n",
            "Recall: 0.9415505013450721\n",
            "F1-score: 0.8011653313911143\n",
            "\n",
            "Class 1.0:\n",
            "Precision: 0.4625637005096041\n",
            "Recall: 0.28992628992628994\n",
            "F1-score: 0.35644162513215527\n",
            "\n",
            "Class 2.0:\n",
            "Precision: 0.401482748788138\n",
            "Recall: 0.3494663688260114\n",
            "F1-score: 0.37367303609341823\n",
            "\n",
            "Class 3.0:\n",
            "Precision: 0.6215880893300249\n",
            "Recall: 0.24582924435721296\n",
            "F1-score: 0.3523206751054852\n",
            "\n",
            "Class 4.0:\n",
            "Precision: 0.8509106310885218\n",
            "Recall: 1.0\n",
            "F1-score: 0.9194508009153318\n",
            "\n",
            "Class 5.0:\n",
            "Precision: 0.3517996870109546\n",
            "Recall: 0.5589259075087022\n",
            "F1-score: 0.431809450633884\n",
            "\n",
            "Average metrics:\n",
            "Weighted precision: 0.5644583187650201\n",
            "Weighted recall: 0.5639400921658986\n",
            "Weighted F1-score: 0.5389796377972252\n"
          ]
        }
      ]
    },
    {
      "cell_type": "code",
      "source": [
        "import matplotlib.pyplot as plt\n",
        "import seaborn as sns\n",
        "from pyspark.ml.evaluation import MulticlassClassificationEvaluator\n",
        "from pyspark.ml.classification import LinearSVC\n",
        "from pyspark.ml.classification import OneVsRest\n",
        "from pyspark.sql import SparkSession\n",
        "\n",
        "\n",
        "predictions_pd = predictions_svm.select(\"prediction\", \"label\").toPandas()\n",
        "\n",
        "# Calculate confusion matrix\n",
        "conf_matrix = pd.crosstab(predictions_pd['label'], predictions_pd['prediction'], rownames=['Actual'], colnames=['Predicted'])\n",
        "\n",
        "# Plot confusion matrix using seaborn\n",
        "plt.figure(figsize=(8, 6))\n",
        "sns.heatmap(conf_matrix, annot=True, fmt=\"d\", cmap=\"Blues\", xticklabels=sorted(set(predictions_pd['label'])),\n",
        "            yticklabels=sorted(set(predictions_pd['label'])))\n",
        "plt.title(\"Confusion Matrix\")\n",
        "plt.xlabel(\"Predicted Label\")\n",
        "plt.ylabel(\"True Label\")\n",
        "plt.show()\n",
        "\n",
        "# ... (the rest of your existing code)\n",
        "\n"
      ],
      "metadata": {
        "colab": {
          "base_uri": "https://localhost:8080/",
          "height": 539
        },
        "id": "gplt36fgUL5p",
        "outputId": "5c491180-e412-47dc-d4fe-cc62d11dcf9d"
      },
      "execution_count": null,
      "outputs": [
        {
          "output_type": "display_data",
          "data": {
            "text/plain": [
              "<Figure size 800x600 with 2 Axes>"
            ],
            "image/png": "[encoded data removed]"
          },
          "metadata": {}
        }
      ]
    },
    {
      "cell_type": "code",
      "source": [
        "from pyspark.ml.classification import DecisionTreeClassifier\n",
        "from pyspark.ml.evaluation import MulticlassClassificationEvaluator\n",
        "from pyspark.mllib.evaluation import MulticlassMetrics\n",
        "from pyspark.ml.feature import StringIndexer, VectorAssembler\n",
        "from pyspark.ml import Pipeline\n",
        "from pyspark.sql import SparkSession\n",
        "\n",
        "spark = SparkSession.builder.appName(\"DecissionTree\").getOrCreate()\n",
        "\n",
        "# Create a DecisionTree classifier\n",
        "dt = DecisionTreeClassifier(labelCol=\"label\", featuresCol=\"features\")\n",
        "\n",
        "# Create a pipeline with the DecisionTree stage\n",
        "pipeline = Pipeline(stages=[dt])\n",
        "\n",
        "# Fit the pipeline to the training data\n",
        "model = pipeline.fit(train_data)\n",
        "\n",
        "# Make predictions on the test data\n",
        "predictions = model.transform(test_data)\n",
        "\n",
        "# Evaluate the model using a MulticlassClassificationEvaluator for F1\n",
        "evaluator_f1 = MulticlassClassificationEvaluator(\n",
        "    labelCol=\"label\", predictionCol=\"prediction\", metricName=\"f1\"\n",
        ")\n",
        "f1_score = evaluator_f1.evaluate(predictions)\n",
        "\n",
        "# Print the F1-score of the model\n",
        "print(f\"Avg-F1 score: {f1_score}\")\n",
        "\n",
        "# Now, use the same MulticlassClassificationEvaluator for accuracy\n",
        "evaluator_accuracy = MulticlassClassificationEvaluator(\n",
        "    labelCol=\"label\", predictionCol=\"prediction\", metricName=\"accuracy\"\n",
        ")\n",
        "accuracy = evaluator_accuracy.evaluate(predictions)\n",
        "\n",
        "# Print accuracy\n",
        "print(f\"Accuracy: {accuracy}\")\n",
        "\n",
        "# Use MulticlassMetrics to compute per-class metrics\n",
        "predictionAndLabels = predictions.select(\"prediction\", \"label\").rdd\n",
        "metrics = MulticlassMetrics(predictionAndLabels)\n",
        "\n",
        "# Print precision, recall, and F1 for each class\n",
        "print(\"Per-class metrics:\")\n",
        "for label in sorted(set(predictions.select(\"label\").rdd.flatMap(lambda x: x).collect())):\n",
        "    print(f\"Class {label}:\")\n",
        "    print(f\"Precision: {metrics.precision(label)}\")\n",
        "    print(f\"Recall: {metrics.recall(label)}\")\n",
        "    print(f\"F1-score: {metrics.fMeasure(label)}\")\n",
        "    print()\n",
        "\n",
        "# Print the average metrics\n",
        "print(\"Average metrics:\")\n",
        "print(f\"Weighted precision: {metrics.weightedPrecision}\")\n",
        "print(f\"Weighted recall: {metrics.weightedRecall}\")\n",
        "print(f\"Weighted F1-score: {metrics.weightedFMeasure()}\")\n",
        "\n",
        "# Stop the Spark session\n",
        "# spark.stop()\n"
      ],
      "metadata": {
        "colab": {
          "base_uri": "https://localhost:8080/"
        },
        "id": "traSyckgHn55",
        "outputId": "d8110abc-7fab-4095-8936-4372fcb8bcfa"
      },
      "execution_count": null,
      "outputs": [
        {
          "output_type": "stream",
          "name": "stdout",
          "text": [
            "Avg-F1 score: 0.9555592456477229\n",
            "Accuracy: 0.9555217248189598\n"
          ]
        },
        {
          "output_type": "stream",
          "name": "stderr",
          "text": [
            "/usr/local/lib/python3.10/dist-packages/pyspark/sql/context.py:158: FutureWarning: Deprecated in 3.0.0. Use SparkSession.builder.getOrCreate() instead.\n",
            "  warnings.warn(\n"
          ]
        },
        {
          "output_type": "stream",
          "name": "stdout",
          "text": [
            "Per-class metrics:\n",
            "Class 0.0:\n",
            "Precision: 0.926497277676951\n",
            "Recall: 0.9987772071411103\n",
            "F1-score: 0.9612804519242086\n",
            "\n",
            "Class 1.0:\n",
            "Precision: 1.0\n",
            "Recall: 0.9206388206388206\n",
            "F1-score: 0.9586798004349494\n",
            "\n",
            "Class 2.0:\n",
            "Precision: 0.9044943820224719\n",
            "Recall: 0.9990071978158352\n",
            "F1-score: 0.9494044108975116\n",
            "\n",
            "Class 3.0:\n",
            "Precision: 0.9554367201426025\n",
            "Recall: 0.9205103042198234\n",
            "F1-score: 0.9376483818568037\n",
            "\n",
            "Class 4.0:\n",
            "Precision: 1.0\n",
            "Recall: 0.9619213539074166\n",
            "F1-score: 0.9805911455029811\n",
            "\n",
            "Class 5.0:\n",
            "Precision: 0.9598157153826465\n",
            "Recall: 0.9323719542516161\n",
            "F1-score: 0.9458948164964057\n",
            "\n",
            "Average metrics:\n",
            "Weighted precision: 0.9576775062606914\n",
            "Weighted recall: 0.9555217248189598\n",
            "Weighted F1-score: 0.9555592456477229\n"
          ]
        }
      ]
    },
    {
      "cell_type": "code",
      "source": [
        "test_data.groupBy(\"label\").count().show()"
      ],
      "metadata": {
        "colab": {
          "base_uri": "https://localhost:8080/"
        },
        "id": "bWD-hnR2fYtD",
        "outputId": "ad65a5d4-5138-427d-8d57-e9cbe0922fe0"
      },
      "execution_count": null,
      "outputs": [
        {
          "output_type": "stream",
          "name": "stdout",
          "text": [
            "+-----+-----+\n",
            "|label|count|\n",
            "+-----+-----+\n",
            "|  0.0| 4089|\n",
            "|  1.0| 4070|\n",
            "|  4.0| 4018|\n",
            "|  3.0| 4076|\n",
            "|  2.0| 4029|\n",
            "|  5.0| 4022|\n",
            "+-----+-----+\n",
            "\n"
          ]
        }
      ]
    },
    {
      "cell_type": "code",
      "source": [
        "import matplotlib.pyplot as plt\n",
        "import seaborn as sns\n",
        "from pyspark.ml.evaluation import MulticlassClassificationEvaluator\n",
        "from pyspark.ml.classification import RandomForestClassifier\n",
        "from pyspark.ml import Pipeline\n",
        "from pyspark.sql import SparkSession\n",
        "\n",
        "predictions_pd = predictions.select(\"prediction\", \"label\").toPandas()\n",
        "\n",
        "# Calculate confusion matrix\n",
        "conf_matrix = pd.crosstab(predictions_pd['label'], predictions_pd['prediction'], rownames=['Actual'], colnames=['Predicted'])\n",
        "\n",
        "# Plot confusion matrix using seaborn\n",
        "plt.figure(figsize=(8, 6))\n",
        "sns.heatmap(conf_matrix, annot=True, fmt=\"d\", cmap=\"Blues\", xticklabels=sorted(set(predictions_pd['label'])),\n",
        "            yticklabels=sorted(set(predictions_pd['label'])))\n",
        "plt.title(\"Confusion Matrix\")\n",
        "plt.xlabel(\"Predicted Label\")\n",
        "plt.ylabel(\"True Label\")\n",
        "plt.show()"
      ],
      "metadata": {
        "colab": {
          "base_uri": "https://localhost:8080/",
          "height": 564
        },
        "id": "mdN08T6T3q-H",
        "outputId": "f4babb2e-f0e9-457a-c3cd-652dec5c1281"
      },
      "execution_count": null,
      "outputs": [
        {
          "output_type": "display_data",
          "data": {
            "text/plain": [
              "<Figure size 800x600 with 2 Axes>"
            ],
            "image/png": "[encoded data removed]"
          },
          "metadata": {}
        }
      ]
    },
    {
      "cell_type": "code",
      "source": [
        "from pyspark.ml.classification import RandomForestClassifier\n",
        "from pyspark.ml.evaluation import MulticlassClassificationEvaluator\n",
        "from pyspark.mllib.evaluation import MulticlassMetrics\n",
        "from pyspark.ml.feature import StringIndexer, VectorAssembler\n",
        "from pyspark.ml import Pipeline\n",
        "from pyspark.sql import SparkSession\n",
        "\n",
        "spark = SparkSession.builder.appName(\"RandomForest\").getOrCreate()\n",
        "\n",
        "# Create a RandomForest classifier\n",
        "rf = RandomForestClassifier(labelCol=\"label\", featuresCol=\"features\")\n",
        "\n",
        "# Create a pipeline with the RandomForest stage\n",
        "pipeline_rf = Pipeline(stages=[rf])\n",
        "\n",
        "# Fit the pipeline to the training data\n",
        "model_rf = pipeline_rf.fit(train_data)\n",
        "\n",
        "# Make predictions on the test data\n",
        "predictions_rf = model_rf.transform(test_data)\n",
        "\n",
        "# Evaluate the model using a MulticlassClassificationEvaluator for F1\n",
        "evaluator_f1_rf = MulticlassClassificationEvaluator(\n",
        "    labelCol=\"label\", predictionCol=\"prediction\", metricName=\"f1\"\n",
        ")\n",
        "f1_score_rf = evaluator_f1_rf.evaluate(predictions_rf)\n",
        "\n",
        "# Print the F1-score of the model\n",
        "print(f\"Avg-F1 score for Random Forest: {f1_score_rf}\")\n",
        "\n",
        "# Now, use the same MulticlassClassificationEvaluator for accuracy\n",
        "evaluator_accuracy_rf = MulticlassClassificationEvaluator(\n",
        "    labelCol=\"label\", predictionCol=\"prediction\", metricName=\"accuracy\"\n",
        ")\n",
        "accuracy_rf = evaluator_accuracy_rf.evaluate(predictions_rf)\n",
        "\n",
        "# Print accuracy\n",
        "print(f\"Accuracy for Random Forest: {accuracy_rf}\")\n",
        "\n",
        "# Use MulticlassMetrics to compute per-class metrics\n",
        "predictionAndLabels_rf = predictions_rf.select(\"prediction\", \"label\").rdd\n",
        "metrics_rf = MulticlassMetrics(predictionAndLabels_rf)\n",
        "\n",
        "# Print precision, recall, and F1 for each class\n",
        "print(\"Per-class metrics for Random Forest:\")\n",
        "for label in sorted(set(predictions_rf.select(\"label\").rdd.flatMap(lambda x: x).collect())):\n",
        "    print(f\"Class {label}:\")\n",
        "    print(f\"Precision: {metrics_rf.precision(label)}\")\n",
        "    print(f\"Recall: {metrics_rf.recall(label)}\")\n",
        "    print(f\"F1-score: {metrics_rf.fMeasure(label)}\")\n",
        "    print()\n",
        "\n",
        "# Print the average metrics\n",
        "print(\"Average metrics for Random Forest:\")\n",
        "print(f\"Weighted precision: {metrics_rf.weightedPrecision}\")\n",
        "print(f\"Weighted recall: {metrics_rf.weightedRecall}\")\n",
        "print(f\"Weighted F1-score: {metrics_rf.weightedFMeasure()}\")\n",
        "\n",
        "# Stop the Spark session\n",
        "# spark.stop()"
      ],
      "metadata": {
        "id": "RXmu7g-rKooN",
        "colab": {
          "base_uri": "https://localhost:8080/"
        },
        "outputId": "b8ff9c0c-ef65-4251-e99a-6048aa11a16f"
      },
      "execution_count": null,
      "outputs": [
        {
          "output_type": "stream",
          "name": "stdout",
          "text": [
            "Avg-F1 score for Random Forest: 0.9427317206154092\n",
            "Accuracy for Random Forest: 0.9421082949308756\n",
            "Per-class metrics for Random Forest:\n",
            "Class 0.0:\n",
            "Precision: 1.0\n",
            "Recall: 0.9109806798728295\n",
            "F1-score: 0.9534169439467622\n",
            "\n",
            "Class 1.0:\n",
            "Precision: 0.9369391824526421\n",
            "Recall: 0.9235872235872236\n",
            "F1-score: 0.9302152932442465\n",
            "\n",
            "Class 2.0:\n",
            "Precision: 0.9986401958118031\n",
            "Recall: 0.9113924050632911\n",
            "F1-score: 0.9530236179600311\n",
            "\n",
            "Class 3.0:\n",
            "Precision: 0.8553621319578767\n",
            "Recall: 0.9764474975466143\n",
            "F1-score: 0.9119028525604308\n",
            "\n",
            "Class 4.0:\n",
            "Precision: 0.9994666666666666\n",
            "Recall: 0.9328023892483823\n",
            "F1-score: 0.964984552008239\n",
            "\n",
            "Class 5.0:\n",
            "Precision: 0.8943614887452641\n",
            "Recall: 0.9977623073097961\n",
            "F1-score: 0.9432365730403102\n",
            "\n",
            "Average metrics for Random Forest:\n",
            "Weighted precision: 0.9473872138647313\n",
            "Weighted recall: 0.9421082949308757\n",
            "Weighted F1-score: 0.9427317206154092\n",
            "+-----+-----+\n",
            "|label|count|\n",
            "+-----+-----+\n",
            "|  0.0| 4089|\n",
            "|  1.0| 4070|\n",
            "|  4.0| 4018|\n",
            "|  3.0| 4076|\n",
            "|  2.0| 4029|\n",
            "|  5.0| 4022|\n",
            "+-----+-----+\n",
            "\n"
          ]
        }
      ]
    },
    {
      "cell_type": "code",
      "source": [
        "import matplotlib.pyplot as plt\n",
        "import seaborn as sns\n",
        "from pyspark.ml.evaluation import MulticlassClassificationEvaluator\n",
        "from pyspark.ml.classification import RandomForestClassifier\n",
        "from pyspark.ml import Pipeline\n",
        "from pyspark.sql import SparkSession\n",
        "\n",
        "predictions_pd = predictions_rf.select(\"prediction\", \"label\").toPandas()\n",
        "\n",
        "# Calculate confusion matrix\n",
        "conf_matrix = pd.crosstab(predictions_pd['label'], predictions_pd['prediction'], rownames=['Actual'], colnames=['Predicted'])\n",
        "\n",
        "# Plot confusion matrix using seaborn\n",
        "plt.figure(figsize=(8, 6))\n",
        "sns.heatmap(conf_matrix, annot=True, fmt=\"d\", cmap=\"Blues\", xticklabels=sorted(set(predictions_pd['label'])),\n",
        "            yticklabels=sorted(set(predictions_pd['label'])))\n",
        "plt.title(\"Confusion Matrix\")\n",
        "plt.xlabel(\"Predicted Label\")\n",
        "plt.ylabel(\"True Label\")\n",
        "plt.show()\n"
      ],
      "metadata": {
        "colab": {
          "base_uri": "https://localhost:8080/",
          "height": 539
        },
        "id": "FhbjYidw3OYD",
        "outputId": "5dcf42f0-86b5-411a-da1b-3d4f13ac9954"
      },
      "execution_count": null,
      "outputs": [
        {
          "output_type": "display_data",
          "data": {
            "text/plain": [
              "<Figure size 800x600 with 2 Axes>"
            ],
            "image/png": "[encoded data removed]"
          },
          "metadata": {}
        }
      ]
    },
    {
      "cell_type": "code",
      "source": [
        "from pyspark.ml.classification import NaiveBayes\n",
        "from pyspark.ml import Pipeline\n",
        "from pyspark.ml.evaluation import MulticlassClassificationEvaluator\n",
        "from pyspark.mllib.evaluation import MulticlassMetrics\n",
        "from pyspark.sql import SparkSession\n",
        "\n",
        "\n",
        "spark = SparkSession.builder.appName(\"NaiveBayesExample\").getOrCreate()\n",
        "\n",
        "\n",
        "# Create a Naive Bayes classifier\n",
        "nb = NaiveBayes(labelCol=\"label\", featuresCol=\"features\")\n",
        "\n",
        "# Create a pipeline with the Naive Bayes stage\n",
        "pipeline_nb = Pipeline(stages=[nb])\n",
        "\n",
        "# Fit the pipeline to the training data\n",
        "model_nb = pipeline_nb.fit(train_data)\n",
        "\n",
        "# Make predictions on the test data\n",
        "predictions_nb = model_nb.transform(test_data)\n",
        "\n",
        "# Evaluate the model using a MulticlassClassificationEvaluator for F1\n",
        "evaluator_f1_nb = MulticlassClassificationEvaluator(\n",
        "    labelCol=\"label\", predictionCol=\"prediction\", metricName=\"f1\"\n",
        ")\n",
        "f1_score_nb = evaluator_f1_nb.evaluate(predictions_nb)\n",
        "\n",
        "# Print the F1-score of the Naive Bayes model\n",
        "print(f\"Avg-F1 score for Naive Bayes: {f1_score_nb}\")\n",
        "\n",
        "# Now, use the same MulticlassClassificationEvaluator for accuracy\n",
        "evaluator_accuracy_nb = MulticlassClassificationEvaluator(\n",
        "    labelCol=\"label\", predictionCol=\"prediction\", metricName=\"accuracy\"\n",
        ")\n",
        "accuracy_nb = evaluator_accuracy_nb.evaluate(predictions_nb)\n",
        "\n",
        "# Print accuracy\n",
        "print(f\"Accuracy for Naive Bayes: {accuracy_nb}\")\n",
        "\n",
        "# Use MulticlassMetrics to compute per-class metrics\n",
        "predictionAndLabels_nb = predictions_nb.select(\"prediction\", \"label\").rdd\n",
        "metrics_nb = MulticlassMetrics(predictionAndLabels_nb)\n",
        "\n",
        "# Print precision, recall, and F1 for each class\n",
        "print(\"Per-class metrics for Naive Bayes:\")\n",
        "for label in sorted(set(predictions_nb.select(\"label\").rdd.flatMap(lambda x: x).collect())):\n",
        "    print(f\"Class {label}:\")\n",
        "    print(f\"Precision: {metrics_nb.precision(label)}\")\n",
        "    print(f\"Recall: {metrics_nb.recall(label)}\")\n",
        "    print(f\"F1-score: {metrics_nb.fMeasure(label)}\")\n",
        "    print()\n",
        "\n",
        "# Print the average metrics\n",
        "print(\"Average metrics for Naive Bayes:\")\n",
        "print(f\"Weighted precision: {metrics_nb.weightedPrecision}\")\n",
        "print(f\"Weighted recall: {metrics_nb.weightedRecall}\")\n",
        "print(f\"Weighted F1-score: {metrics_nb.weightedFMeasure()}\")\n",
        "\n",
        "# Stop the Spark session\n",
        "# spark.stop()\n"
      ],
      "metadata": {
        "colab": {
          "base_uri": "https://localhost:8080/"
        },
        "id": "1jcwe8w57O2G",
        "outputId": "a28b0b84-eaa4-4c63-8ed9-b0e0e2aced58"
      },
      "execution_count": null,
      "outputs": [
        {
          "output_type": "stream",
          "name": "stdout",
          "text": [
            "Avg-F1 score for Naive Bayes: 0.47118206235059534\n",
            "Accuracy for Naive Bayes: 0.4735023041474654\n"
          ]
        },
        {
          "output_type": "stream",
          "name": "stderr",
          "text": [
            "/usr/local/lib/python3.10/dist-packages/pyspark/sql/context.py:158: FutureWarning: Deprecated in 3.0.0. Use SparkSession.builder.getOrCreate() instead.\n",
            "  warnings.warn(\n"
          ]
        },
        {
          "output_type": "stream",
          "name": "stdout",
          "text": [
            "Per-class metrics for Naive Bayes:\n",
            "Class 0.0:\n",
            "Precision: 0.6291618828932262\n",
            "Recall: 0.6700904866715578\n",
            "F1-score: 0.6489815253434391\n",
            "\n",
            "Class 1.0:\n",
            "Precision: 0.413755929279862\n",
            "Recall: 0.4714987714987715\n",
            "F1-score: 0.4407441433164906\n",
            "\n",
            "Class 2.0:\n",
            "Precision: 0.35640950425344675\n",
            "Recall: 0.3015636634400596\n",
            "F1-score: 0.3267007260016133\n",
            "\n",
            "Class 3.0:\n",
            "Precision: 0.42421577250073295\n",
            "Recall: 0.35500490677134444\n",
            "F1-score: 0.3865366635501536\n",
            "\n",
            "Class 4.0:\n",
            "Precision: 0.6088510170423309\n",
            "Recall: 0.5512692882030861\n",
            "F1-score: 0.5786311389759665\n",
            "\n",
            "Class 5.0:\n",
            "Precision: 0.40634658973830623\n",
            "Recall: 0.4903033316757832\n",
            "F1-score: 0.44439436619718314\n",
            "\n",
            "Average metrics for Naive Bayes:\n",
            "Weighted precision: 0.4732717381119617\n",
            "Weighted recall: 0.4735023041474654\n",
            "Weighted F1-score: 0.47118206235059534\n"
          ]
        }
      ]
    },
    {
      "cell_type": "code",
      "source": [
        "import matplotlib.pyplot as plt\n",
        "import seaborn as sns\n",
        "from pyspark.ml.evaluation import MulticlassClassificationEvaluator\n",
        "from pyspark.ml.classification import RandomForestClassifier\n",
        "from pyspark.ml import Pipeline\n",
        "from pyspark.sql import SparkSession\n",
        "\n",
        "predictions_pd = predictions_nb .select(\"prediction\", \"label\").toPandas()\n",
        "\n",
        "# Calculate confusion matrix\n",
        "conf_matrix = pd.crosstab(predictions_pd['label'], predictions_pd['prediction'], rownames=['Actual'], colnames=['Predicted'])\n",
        "\n",
        "# Plot confusion matrix using seaborn\n",
        "plt.figure(figsize=(8, 6))\n",
        "sns.heatmap(conf_matrix, annot=True, fmt=\"d\", cmap=\"Blues\", xticklabels=sorted(set(predictions_pd['label'])),\n",
        "            yticklabels=sorted(set(predictions_pd['label'])))\n",
        "plt.title(\"Confusion Matrix\")\n",
        "plt.xlabel(\"Predicted Label\")\n",
        "plt.ylabel(\"True Label\")\n",
        "plt.show()"
      ],
      "metadata": {
        "colab": {
          "base_uri": "https://localhost:8080/",
          "height": 539
        },
        "id": "9rJDGMWo5K2y",
        "outputId": "70761751-b062-4ed2-b7c8-66c4cf4d3b73"
      },
      "execution_count": null,
      "outputs": [
        {
          "output_type": "display_data",
          "data": {
            "text/plain": [
              "<Figure size 800x600 with 2 Axes>"
            ],
            "image/png": "[encoded data removed]"
          },
          "metadata": {}
        }
      ]
    },
    {
      "cell_type": "code",
      "source": [
        "##Ensemble method\n",
        "from pyspark.ml.classification import RandomForestClassifier\n",
        "from pyspark.ml.evaluation import MulticlassClassificationEvaluator\n",
        "from pyspark.sql import SparkSession\n",
        "\n",
        "\n",
        "# Load and preprocess your data into 'train_data' and 'test_data'\n",
        "# Assuming 'label' is your label column and 'features' is your features column\n",
        "\n",
        "# Create a RandomForest classifier\n",
        "rf = RandomForestClassifier(labelCol=\"label\", featuresCol=\"features\", numTrees=10)\n",
        "\n",
        "# Fit the RandomForest model to the training data\n",
        "model_rf = rf.fit(train_data)\n",
        "\n",
        "# Make predictions on the test data\n",
        "predictions_rf = model_rf.transform(test_data)\n",
        "\n",
        "# Evaluate the model using a MulticlassClassificationEvaluator for F1\n",
        "evaluator_f1_rf = MulticlassClassificationEvaluator(\n",
        "    labelCol=\"label\", predictionCol=\"prediction\", metricName=\"f1\"\n",
        ")\n",
        "f1_score_rf = evaluator_f1_rf.evaluate(predictions_rf)\n",
        "\n",
        "# Print the F1-score of the RandomForest model\n",
        "print(f\"Avg-F1 score for Random Forest: {f1_score_rf}\")\n",
        "\n",
        "# Now, use the same MulticlassClassificationEvaluator for accuracy\n",
        "evaluator_accuracy_rf = MulticlassClassificationEvaluator(\n",
        "    labelCol=\"label\", predictionCol=\"prediction\", metricName=\"accuracy\"\n",
        ")\n",
        "accuracy_rf = evaluator_accuracy_rf.evaluate(predictions_rf)\n",
        "\n",
        "# Print accuracy\n",
        "print(f\"Accuracy for Random Forest: {accuracy_rf}\")\n"
      ],
      "metadata": {
        "id": "xY5VI-4sI_gB"
      },
      "execution_count": null,
      "outputs": []
    },
    {
      "cell_type": "code",
      "source": [
        "from pyspark.ml.classification import LogisticRegression\n",
        "from pyspark.ml.evaluation import MulticlassClassificationEvaluator\n",
        "from pyspark.mllib.evaluation import MulticlassMetrics\n",
        "from pyspark.ml.feature import StringIndexer, VectorAssembler\n",
        "from pyspark.ml import Pipeline\n",
        "from pyspark.sql import SparkSession\n",
        "\n",
        "# Create or retrieve a Spark session\n",
        "spark = SparkSession.builder.appName(\"LogisticRegressionExample\").getOrCreate()\n",
        "\n",
        "# Assuming you have 'train_data' and 'test_data' DataFrames with 'label' and 'features' columns\n",
        "\n",
        "# Create a Logistic Regression classifier\n",
        "lr = LogisticRegression(labelCol=\"label\", featuresCol=\"features\", maxIter=10, regParam=0.01)\n",
        "\n",
        "# Create a pipeline with the Logistic Regression stage\n",
        "pipeline = Pipeline(stages=[lr])\n",
        "\n",
        "# Fit the pipeline to the training data\n",
        "model = pipeline.fit(train_data)\n",
        "\n",
        "# Make predictions on the test data\n",
        "predictions = model.transform(test_data)\n",
        "\n",
        "# Evaluate the model using a MulticlassClassificationEvaluator for F1\n",
        "evaluator_f1 = MulticlassClassificationEvaluator(\n",
        "    labelCol=\"label\", predictionCol=\"prediction\", metricName=\"f1\"\n",
        ")\n",
        "f1_score = evaluator_f1.evaluate(predictions)\n",
        "\n",
        "# Print the F1-score of the model\n",
        "print(f\"Avg-F1 score: {f1_score}\")\n",
        "\n",
        "# Now, use the same MulticlassClassificationEvaluator for accuracy\n",
        "evaluator_accuracy = MulticlassClassificationEvaluator(\n",
        "    labelCol=\"label\", predictionCol=\"prediction\", metricName=\"accuracy\"\n",
        ")\n",
        "accuracy = evaluator_accuracy.evaluate(predictions)\n",
        "\n",
        "# Print accuracy\n",
        "print(f\"Accuracy: {accuracy}\")\n",
        "\n",
        "# Use MulticlassMetrics to compute per-class metrics\n",
        "predictionAndLabels = predictions.select(\"prediction\", \"label\").rdd\n",
        "metrics = MulticlassMetrics(predictionAndLabels)\n",
        "\n",
        "# Print precision, recall, and F1 for each class\n",
        "print(\"Per-class metrics:\")\n",
        "for label in sorted(set(predictions.select(\"label\").rdd.flatMap(lambda x: x).collect())):\n",
        "    print(f\"Class {label}:\")\n",
        "    print(f\"Precision: {metrics.precision(label)}\")\n",
        "    print(f\"Recall: {metrics.recall(label)}\")\n",
        "    print(f\"F1-score: {metrics.fMeasure(label)}\")\n",
        "    print()\n",
        "\n",
        "# Print the average metrics\n",
        "print(\"Average metrics:\")\n",
        "print(f\"Weighted precision: {metrics.weightedPrecision}\")\n",
        "print(f\"Weighted recall: {metrics.weightedRecall}\")\n",
        "print(f\"Weighted F1-score: {metrics.weightedFMeasure()}\")\n",
        "\n",
        "# Stop the Spark session\n",
        "spark.stop()\n"
      ],
      "metadata": {
        "id": "iDr61ZGl_Rd9",
        "outputId": "9335fd48-c21d-4c88-9019-09fb698a5435",
        "colab": {
          "base_uri": "https://localhost:8080/",
          "height": 1000
        }
      },
      "execution_count": null,
      "outputs": [
        {
          "output_type": "error",
          "ename": "Py4JJavaError",
          "evalue": "ignored",
          "traceback": [
            "\u001b[0;31m---------------------------------------------------------------------------\u001b[0m",
            "\u001b[0;31mPy4JJavaError\u001b[0m                             Traceback (most recent call last)",
            "\u001b[0;32m<ipython-input-43-626fbbbef730>\u001b[0m in \u001b[0;36m<cell line: 20>\u001b[0;34m()\u001b[0m\n\u001b[1;32m     18\u001b[0m \u001b[0;34m\u001b[0m\u001b[0m\n\u001b[1;32m     19\u001b[0m \u001b[0;31m# Fit the pipeline to the training data\u001b[0m\u001b[0;34m\u001b[0m\u001b[0;34m\u001b[0m\u001b[0m\n\u001b[0;32m---> 20\u001b[0;31m \u001b[0mmodel\u001b[0m \u001b[0;34m=\u001b[0m \u001b[0mpipeline\u001b[0m\u001b[0;34m.\u001b[0m\u001b[0mfit\u001b[0m\u001b[0;34m(\u001b[0m\u001b[0mtrain_data\u001b[0m\u001b[0;34m)\u001b[0m\u001b[0;34m\u001b[0m\u001b[0;34m\u001b[0m\u001b[0m\n\u001b[0m\u001b[1;32m     21\u001b[0m \u001b[0;34m\u001b[0m\u001b[0m\n\u001b[1;32m     22\u001b[0m \u001b[0;31m# Make predictions on the test data\u001b[0m\u001b[0;34m\u001b[0m\u001b[0;34m\u001b[0m\u001b[0m\n",
            "\u001b[0;32m/usr/local/lib/python3.10/dist-packages/pyspark/ml/base.py\u001b[0m in \u001b[0;36mfit\u001b[0;34m(self, dataset, params)\u001b[0m\n\u001b[1;32m    203\u001b[0m                 \u001b[0;32mreturn\u001b[0m \u001b[0mself\u001b[0m\u001b[0;34m.\u001b[0m\u001b[0mcopy\u001b[0m\u001b[0;34m(\u001b[0m\u001b[0mparams\u001b[0m\u001b[0;34m)\u001b[0m\u001b[0;34m.\u001b[0m\u001b[0m_fit\u001b[0m\u001b[0;34m(\u001b[0m\u001b[0mdataset\u001b[0m\u001b[0;34m)\u001b[0m\u001b[0;34m\u001b[0m\u001b[0;34m\u001b[0m\u001b[0m\n\u001b[1;32m    204\u001b[0m             \u001b[0;32melse\u001b[0m\u001b[0;34m:\u001b[0m\u001b[0;34m\u001b[0m\u001b[0;34m\u001b[0m\u001b[0m\n\u001b[0;32m--> 205\u001b[0;31m                 \u001b[0;32mreturn\u001b[0m \u001b[0mself\u001b[0m\u001b[0;34m.\u001b[0m\u001b[0m_fit\u001b[0m\u001b[0;34m(\u001b[0m\u001b[0mdataset\u001b[0m\u001b[0;34m)\u001b[0m\u001b[0;34m\u001b[0m\u001b[0;34m\u001b[0m\u001b[0m\n\u001b[0m\u001b[1;32m    206\u001b[0m         \u001b[0;32melse\u001b[0m\u001b[0;34m:\u001b[0m\u001b[0;34m\u001b[0m\u001b[0;34m\u001b[0m\u001b[0m\n\u001b[1;32m    207\u001b[0m             raise TypeError(\n",
            "\u001b[0;32m/usr/local/lib/python3.10/dist-packages/pyspark/ml/pipeline.py\u001b[0m in \u001b[0;36m_fit\u001b[0;34m(self, dataset)\u001b[0m\n\u001b[1;32m    132\u001b[0m                     \u001b[0mdataset\u001b[0m \u001b[0;34m=\u001b[0m \u001b[0mstage\u001b[0m\u001b[0;34m.\u001b[0m\u001b[0mtransform\u001b[0m\u001b[0;34m(\u001b[0m\u001b[0mdataset\u001b[0m\u001b[0;34m)\u001b[0m\u001b[0;34m\u001b[0m\u001b[0;34m\u001b[0m\u001b[0m\n\u001b[1;32m    133\u001b[0m                 \u001b[0;32melse\u001b[0m\u001b[0;34m:\u001b[0m  \u001b[0;31m# must be an Estimator\u001b[0m\u001b[0;34m\u001b[0m\u001b[0;34m\u001b[0m\u001b[0m\n\u001b[0;32m--> 134\u001b[0;31m                     \u001b[0mmodel\u001b[0m \u001b[0;34m=\u001b[0m \u001b[0mstage\u001b[0m\u001b[0;34m.\u001b[0m\u001b[0mfit\u001b[0m\u001b[0;34m(\u001b[0m\u001b[0mdataset\u001b[0m\u001b[0;34m)\u001b[0m\u001b[0;34m\u001b[0m\u001b[0;34m\u001b[0m\u001b[0m\n\u001b[0m\u001b[1;32m    135\u001b[0m                     \u001b[0mtransformers\u001b[0m\u001b[0;34m.\u001b[0m\u001b[0mappend\u001b[0m\u001b[0;34m(\u001b[0m\u001b[0mmodel\u001b[0m\u001b[0;34m)\u001b[0m\u001b[0;34m\u001b[0m\u001b[0;34m\u001b[0m\u001b[0m\n\u001b[1;32m    136\u001b[0m                     \u001b[0;32mif\u001b[0m \u001b[0mi\u001b[0m \u001b[0;34m<\u001b[0m \u001b[0mindexOfLastEstimator\u001b[0m\u001b[0;34m:\u001b[0m\u001b[0;34m\u001b[0m\u001b[0;34m\u001b[0m\u001b[0m\n",
            "\u001b[0;32m/usr/local/lib/python3.10/dist-packages/pyspark/ml/base.py\u001b[0m in \u001b[0;36mfit\u001b[0;34m(self, dataset, params)\u001b[0m\n\u001b[1;32m    203\u001b[0m                 \u001b[0;32mreturn\u001b[0m \u001b[0mself\u001b[0m\u001b[0;34m.\u001b[0m\u001b[0mcopy\u001b[0m\u001b[0;34m(\u001b[0m\u001b[0mparams\u001b[0m\u001b[0;34m)\u001b[0m\u001b[0;34m.\u001b[0m\u001b[0m_fit\u001b[0m\u001b[0;34m(\u001b[0m\u001b[0mdataset\u001b[0m\u001b[0;34m)\u001b[0m\u001b[0;34m\u001b[0m\u001b[0;34m\u001b[0m\u001b[0m\n\u001b[1;32m    204\u001b[0m             \u001b[0;32melse\u001b[0m\u001b[0;34m:\u001b[0m\u001b[0;34m\u001b[0m\u001b[0;34m\u001b[0m\u001b[0m\n\u001b[0;32m--> 205\u001b[0;31m                 \u001b[0;32mreturn\u001b[0m \u001b[0mself\u001b[0m\u001b[0;34m.\u001b[0m\u001b[0m_fit\u001b[0m\u001b[0;34m(\u001b[0m\u001b[0mdataset\u001b[0m\u001b[0;34m)\u001b[0m\u001b[0;34m\u001b[0m\u001b[0;34m\u001b[0m\u001b[0m\n\u001b[0m\u001b[1;32m    206\u001b[0m         \u001b[0;32melse\u001b[0m\u001b[0;34m:\u001b[0m\u001b[0;34m\u001b[0m\u001b[0;34m\u001b[0m\u001b[0m\n\u001b[1;32m    207\u001b[0m             raise TypeError(\n",
            "\u001b[0;32m/usr/local/lib/python3.10/dist-packages/pyspark/ml/wrapper.py\u001b[0m in \u001b[0;36m_fit\u001b[0;34m(self, dataset)\u001b[0m\n\u001b[1;32m    379\u001b[0m \u001b[0;34m\u001b[0m\u001b[0m\n\u001b[1;32m    380\u001b[0m     \u001b[0;32mdef\u001b[0m \u001b[0m_fit\u001b[0m\u001b[0;34m(\u001b[0m\u001b[0mself\u001b[0m\u001b[0;34m,\u001b[0m \u001b[0mdataset\u001b[0m\u001b[0;34m:\u001b[0m \u001b[0mDataFrame\u001b[0m\u001b[0;34m)\u001b[0m \u001b[0;34m->\u001b[0m \u001b[0mJM\u001b[0m\u001b[0;34m:\u001b[0m\u001b[0;34m\u001b[0m\u001b[0;34m\u001b[0m\u001b[0m\n\u001b[0;32m--> 381\u001b[0;31m         \u001b[0mjava_model\u001b[0m \u001b[0;34m=\u001b[0m \u001b[0mself\u001b[0m\u001b[0;34m.\u001b[0m\u001b[0m_fit_java\u001b[0m\u001b[0;34m(\u001b[0m\u001b[0mdataset\u001b[0m\u001b[0;34m)\u001b[0m\u001b[0;34m\u001b[0m\u001b[0;34m\u001b[0m\u001b[0m\n\u001b[0m\u001b[1;32m    382\u001b[0m         \u001b[0mmodel\u001b[0m \u001b[0;34m=\u001b[0m \u001b[0mself\u001b[0m\u001b[0;34m.\u001b[0m\u001b[0m_create_model\u001b[0m\u001b[0;34m(\u001b[0m\u001b[0mjava_model\u001b[0m\u001b[0;34m)\u001b[0m\u001b[0;34m\u001b[0m\u001b[0;34m\u001b[0m\u001b[0m\n\u001b[1;32m    383\u001b[0m         \u001b[0;32mreturn\u001b[0m \u001b[0mself\u001b[0m\u001b[0;34m.\u001b[0m\u001b[0m_copyValues\u001b[0m\u001b[0;34m(\u001b[0m\u001b[0mmodel\u001b[0m\u001b[0;34m)\u001b[0m\u001b[0;34m\u001b[0m\u001b[0;34m\u001b[0m\u001b[0m\n",
            "\u001b[0;32m/usr/local/lib/python3.10/dist-packages/pyspark/ml/wrapper.py\u001b[0m in \u001b[0;36m_fit_java\u001b[0;34m(self, dataset)\u001b[0m\n\u001b[1;32m    376\u001b[0m \u001b[0;34m\u001b[0m\u001b[0m\n\u001b[1;32m    377\u001b[0m         \u001b[0mself\u001b[0m\u001b[0;34m.\u001b[0m\u001b[0m_transfer_params_to_java\u001b[0m\u001b[0;34m(\u001b[0m\u001b[0;34m)\u001b[0m\u001b[0;34m\u001b[0m\u001b[0;34m\u001b[0m\u001b[0m\n\u001b[0;32m--> 378\u001b[0;31m         \u001b[0;32mreturn\u001b[0m \u001b[0mself\u001b[0m\u001b[0;34m.\u001b[0m\u001b[0m_java_obj\u001b[0m\u001b[0;34m.\u001b[0m\u001b[0mfit\u001b[0m\u001b[0;34m(\u001b[0m\u001b[0mdataset\u001b[0m\u001b[0;34m.\u001b[0m\u001b[0m_jdf\u001b[0m\u001b[0;34m)\u001b[0m\u001b[0;34m\u001b[0m\u001b[0;34m\u001b[0m\u001b[0m\n\u001b[0m\u001b[1;32m    379\u001b[0m \u001b[0;34m\u001b[0m\u001b[0m\n\u001b[1;32m    380\u001b[0m     \u001b[0;32mdef\u001b[0m \u001b[0m_fit\u001b[0m\u001b[0;34m(\u001b[0m\u001b[0mself\u001b[0m\u001b[0;34m,\u001b[0m \u001b[0mdataset\u001b[0m\u001b[0;34m:\u001b[0m \u001b[0mDataFrame\u001b[0m\u001b[0;34m)\u001b[0m \u001b[0;34m->\u001b[0m \u001b[0mJM\u001b[0m\u001b[0;34m:\u001b[0m\u001b[0;34m\u001b[0m\u001b[0;34m\u001b[0m\u001b[0m\n",
            "\u001b[0;32m/usr/local/lib/python3.10/dist-packages/py4j/java_gateway.py\u001b[0m in \u001b[0;36m__call__\u001b[0;34m(self, *args)\u001b[0m\n\u001b[1;32m   1320\u001b[0m \u001b[0;34m\u001b[0m\u001b[0m\n\u001b[1;32m   1321\u001b[0m         \u001b[0manswer\u001b[0m \u001b[0;34m=\u001b[0m \u001b[0mself\u001b[0m\u001b[0;34m.\u001b[0m\u001b[0mgateway_client\u001b[0m\u001b[0;34m.\u001b[0m\u001b[0msend_command\u001b[0m\u001b[0;34m(\u001b[0m\u001b[0mcommand\u001b[0m\u001b[0;34m)\u001b[0m\u001b[0;34m\u001b[0m\u001b[0;34m\u001b[0m\u001b[0m\n\u001b[0;32m-> 1322\u001b[0;31m         return_value = get_return_value(\n\u001b[0m\u001b[1;32m   1323\u001b[0m             answer, self.gateway_client, self.target_id, self.name)\n\u001b[1;32m   1324\u001b[0m \u001b[0;34m\u001b[0m\u001b[0m\n",
            "\u001b[0;32m/usr/local/lib/python3.10/dist-packages/pyspark/errors/exceptions/captured.py\u001b[0m in \u001b[0;36mdeco\u001b[0;34m(*a, **kw)\u001b[0m\n\u001b[1;32m    177\u001b[0m     \u001b[0;32mdef\u001b[0m \u001b[0mdeco\u001b[0m\u001b[0;34m(\u001b[0m\u001b[0;34m*\u001b[0m\u001b[0ma\u001b[0m\u001b[0;34m:\u001b[0m \u001b[0mAny\u001b[0m\u001b[0;34m,\u001b[0m \u001b[0;34m**\u001b[0m\u001b[0mkw\u001b[0m\u001b[0;34m:\u001b[0m \u001b[0mAny\u001b[0m\u001b[0;34m)\u001b[0m \u001b[0;34m->\u001b[0m \u001b[0mAny\u001b[0m\u001b[0;34m:\u001b[0m\u001b[0;34m\u001b[0m\u001b[0;34m\u001b[0m\u001b[0m\n\u001b[1;32m    178\u001b[0m         \u001b[0;32mtry\u001b[0m\u001b[0;34m:\u001b[0m\u001b[0;34m\u001b[0m\u001b[0;34m\u001b[0m\u001b[0m\n\u001b[0;32m--> 179\u001b[0;31m             \u001b[0;32mreturn\u001b[0m \u001b[0mf\u001b[0m\u001b[0;34m(\u001b[0m\u001b[0;34m*\u001b[0m\u001b[0ma\u001b[0m\u001b[0;34m,\u001b[0m \u001b[0;34m**\u001b[0m\u001b[0mkw\u001b[0m\u001b[0;34m)\u001b[0m\u001b[0;34m\u001b[0m\u001b[0;34m\u001b[0m\u001b[0m\n\u001b[0m\u001b[1;32m    180\u001b[0m         \u001b[0;32mexcept\u001b[0m \u001b[0mPy4JJavaError\u001b[0m \u001b[0;32mas\u001b[0m \u001b[0me\u001b[0m\u001b[0;34m:\u001b[0m\u001b[0;34m\u001b[0m\u001b[0;34m\u001b[0m\u001b[0m\n\u001b[1;32m    181\u001b[0m             \u001b[0mconverted\u001b[0m \u001b[0;34m=\u001b[0m \u001b[0mconvert_exception\u001b[0m\u001b[0;34m(\u001b[0m\u001b[0me\u001b[0m\u001b[0;34m.\u001b[0m\u001b[0mjava_exception\u001b[0m\u001b[0;34m)\u001b[0m\u001b[0;34m\u001b[0m\u001b[0;34m\u001b[0m\u001b[0m\n",
            "\u001b[0;32m/usr/local/lib/python3.10/dist-packages/py4j/protocol.py\u001b[0m in \u001b[0;36mget_return_value\u001b[0;34m(answer, gateway_client, target_id, name)\u001b[0m\n\u001b[1;32m    324\u001b[0m             \u001b[0mvalue\u001b[0m \u001b[0;34m=\u001b[0m \u001b[0mOUTPUT_CONVERTER\u001b[0m\u001b[0;34m[\u001b[0m\u001b[0mtype\u001b[0m\u001b[0;34m]\u001b[0m\u001b[0;34m(\u001b[0m\u001b[0manswer\u001b[0m\u001b[0;34m[\u001b[0m\u001b[0;36m2\u001b[0m\u001b[0;34m:\u001b[0m\u001b[0;34m]\u001b[0m\u001b[0;34m,\u001b[0m \u001b[0mgateway_client\u001b[0m\u001b[0;34m)\u001b[0m\u001b[0;34m\u001b[0m\u001b[0;34m\u001b[0m\u001b[0m\n\u001b[1;32m    325\u001b[0m             \u001b[0;32mif\u001b[0m \u001b[0manswer\u001b[0m\u001b[0;34m[\u001b[0m\u001b[0;36m1\u001b[0m\u001b[0;34m]\u001b[0m \u001b[0;34m==\u001b[0m \u001b[0mREFERENCE_TYPE\u001b[0m\u001b[0;34m:\u001b[0m\u001b[0;34m\u001b[0m\u001b[0;34m\u001b[0m\u001b[0m\n\u001b[0;32m--> 326\u001b[0;31m                 raise Py4JJavaError(\n\u001b[0m\u001b[1;32m    327\u001b[0m                     \u001b[0;34m\"An error occurred while calling {0}{1}{2}.\\n\"\u001b[0m\u001b[0;34m.\u001b[0m\u001b[0;34m\u001b[0m\u001b[0;34m\u001b[0m\u001b[0m\n\u001b[1;32m    328\u001b[0m                     format(target_id, \".\", name), value)\n",
            "\u001b[0;31mPy4JJavaError\u001b[0m: An error occurred while calling o3998.fit.\n: java.lang.IllegalStateException: SparkContext has been shutdown\n\tat org.apache.spark.SparkContext.runJob(SparkContext.scala:2390)\n\tat org.apache.spark.SparkContext.runJob(SparkContext.scala:2493)\n\tat org.apache.spark.rdd.RDD.$anonfun$fold$1(RDD.scala:1199)\n\tat org.apache.spark.rdd.RDDOperationScope$.withScope(RDDOperationScope.scala:151)\n\tat org.apache.spark.rdd.RDDOperationScope$.withScope(RDDOperationScope.scala:112)\n\tat org.apache.spark.rdd.RDD.withScope(RDD.scala:407)\n\tat org.apache.spark.rdd.RDD.fold(RDD.scala:1193)\n\tat org.apache.spark.rdd.RDD.$anonfun$treeAggregate$2(RDD.scala:1286)\n\tat org.apache.spark.rdd.RDDOperationScope$.withScope(RDDOperationScope.scala:151)\n\tat org.apache.spark.rdd.RDDOperationScope$.withScope(RDDOperationScope.scala:112)\n\tat org.apache.spark.rdd.RDD.withScope(RDD.scala:407)\n\tat org.apache.spark.rdd.RDD.treeAggregate(RDD.scala:1253)\n\tat org.apache.spark.rdd.RDD.$anonfun$treeAggregate$1(RDD.scala:1239)\n\tat org.apache.spark.rdd.RDDOperationScope$.withScope(RDDOperationScope.scala:151)\n\tat org.apache.spark.rdd.RDDOperationScope$.withScope(RDDOperationScope.scala:112)\n\tat org.apache.spark.rdd.RDD.withScope(RDD.scala:407)\n\tat org.apache.spark.rdd.RDD.treeAggregate(RDD.scala:1239)\n\tat org.apache.spark.ml.stat.Summarizer$.getClassificationSummarizers(Summarizer.scala:233)\n\tat org.apache.spark.ml.classification.LogisticRegression.$anonfun$train$1(LogisticRegression.scala:517)\n\tat org.apache.spark.ml.util.Instrumentation$.$anonfun$instrumented$1(Instrumentation.scala:191)\n\tat scala.util.Try$.apply(Try.scala:213)\n\tat org.apache.spark.ml.util.Instrumentation$.instrumented(Instrumentation.scala:191)\n\tat org.apache.spark.ml.classification.LogisticRegression.train(LogisticRegression.scala:497)\n\tat org.apache.spark.ml.classification.LogisticRegression.train(LogisticRegression.scala:287)\n\tat org.apache.spark.ml.Predictor.fit(Predictor.scala:114)\n\tat org.apache.spark.ml.Predictor.fit(Predictor.scala:78)\n\tat jdk.internal.reflect.GeneratedMethodAccessor171.invoke(Unknown Source)\n\tat java.base/jdk.internal.reflect.DelegatingMethodAccessorImpl.invoke(DelegatingMethodAccessorImpl.java:43)\n\tat java.base/java.lang.reflect.Method.invoke(Method.java:566)\n\tat py4j.reflection.MethodInvoker.invoke(MethodInvoker.java:244)\n\tat py4j.reflection.ReflectionEngine.invoke(ReflectionEngine.java:374)\n\tat py4j.Gateway.invoke(Gateway.java:282)\n\tat py4j.commands.AbstractCommand.invokeMethod(AbstractCommand.java:132)\n\tat py4j.commands.CallCommand.execute(CallCommand.java:79)\n\tat py4j.ClientServerConnection.waitForCommands(ClientServerConnection.java:182)\n\tat py4j.ClientServerConnection.run(ClientServerConnection.java:106)\n\tat java.base/java.lang.Thread.run(Thread.java:829)\n"
          ]
        }
      ]
    },
    {
      "cell_type": "code",
      "source": [
        "import matplotlib.pyplot as plt\n",
        "import numpy as np\n",
        "\n",
        "accuracy_values = []\n",
        "\n",
        "# Decision Tree accuracy\n",
        "accuracy_values.append(accuracy)\n",
        "\n",
        "# Naive Bayes accuracy\n",
        "accuracy_values.append(accuracy_nb)\n",
        "\n",
        "# Random Forest accuracy\n",
        "accuracy_values.append(accuracy_rf)\n",
        "\n",
        "# SVM accuracy\n",
        "accuracy_values.append(fm)\n",
        "\n",
        "model_names = ['Decision Tree', 'Naive Bayes', 'Random Forest', 'SVM']\n",
        "\n",
        "plt.figure(figsize=(10, 6))\n",
        "plt.bar(model_names, accuracy_values, color=['red', 'blue', 'green', 'purple'])\n",
        "plt.title('Accuracy Comparison')\n",
        "plt.xlabel('Model')\n",
        "plt.ylabel('Accuracy')\n",
        "plt.ylim(0, 1)\n",
        "plt.show()\n"
      ],
      "metadata": {
        "colab": {
          "base_uri": "https://localhost:8080/",
          "height": 423
        },
        "id": "bs2QFv4t7iau",
        "outputId": "ffb19d8a-d54d-486a-b8b4-e9dba4e986e6"
      },
      "execution_count": null,
      "outputs": [
        {
          "output_type": "display_data",
          "data": {
            "text/plain": [
              "<Figure size 1000x600 with 1 Axes>"
            ],
            "image/png": "[encoded data removed]"
          },
          "metadata": {}
        }
      ]
    },
    {
      "cell_type": "code",
      "source": [
        "from pyspark.sql import SparkSession\n",
        "from pyspark.ml import PipelineModel\n",
        "\n",
        "# Collect input from the user\n",
        "PM2 = float(input(\"Enter the Value of PM2:\"))\n",
        "PM10 = float(input(\"Enter the Value of PM10:\"))\n",
        "NO = float(input(\"Enter the Value of NO:\"))\n",
        "NO2 = float(input(\"Enter the level of NO2:\"))\n",
        "NOx = float(input(\"Enter the level of NOX:\"))\n",
        "CO = float(input(\"Enter the value for CO:\"))\n",
        "SO2 = float(input(\"Enter the level of SO2:\"))\n",
        "O3 = float(input(\"Enter the level of O3:\"))\n",
        "AQI = float(input(\"Enter the level of AQI:\"))\n",
        "\n",
        "# Create a Spark DataFrame with the input values\n",
        "input_data = [(PM2, PM10, NO, NO2, NOx, CO, SO2, O3, AQI)]\n",
        "columns = [\"PM2\", \"PM10\", \"NO\", \"NO2\", \"NOx\", \"CO\", \"SO2\", \"O3\", \"AQI\"]\n",
        "input_df = spark.createDataFrame(input_data, columns)\n",
        "\n",
        "# Use the model to make predictions\n",
        "predictions = model_rf.transform(input_df)\n",
        "\n",
        "# Extract the predicted crop\n",
        "predicted_crop = predictions.select(\"prediction\").collect()[0][0]\n",
        "\n",
        "print(\"The Suitable Crop for the given conditions:\", predicted_crop)\n"
      ],
      "metadata": {
        "colab": {
          "base_uri": "https://localhost:8080/",
          "height": 547
        },
        "id": "e85OQhnFQMO7",
        "outputId": "ff74dc3d-5911-4926-8b62-dc5b2d88dd16"
      },
      "execution_count": null,
      "outputs": [
        {
          "name": "stdout",
          "output_type": "stream",
          "text": [
            "Enter the Value of PM2:81.40\n",
            "Enter the Value of PM10:124.50\n",
            "Enter the Value of NO:1.44\n",
            "Enter the level of NO2:20.50\n",
            "Enter the level of NOX:12.08\n",
            "Enter the value for CO:0.12\n",
            "Enter the level of SO2:15.24\n",
            "Enter the level of O3:127.09\n",
            "Enter the level of AQI:184.0\n"
          ]
        },
        {
          "output_type": "error",
          "ename": "IllegalArgumentException",
          "evalue": "ignored",
          "traceback": [
            "\u001b[0;31m---------------------------------------------------------------------------\u001b[0m",
            "\u001b[0;31mIllegalArgumentException\u001b[0m                  Traceback (most recent call last)",
            "\u001b[0;32m<ipython-input-95-75d12cc61fb0>\u001b[0m in \u001b[0;36m<cell line: 21>\u001b[0;34m()\u001b[0m\n\u001b[1;32m     19\u001b[0m \u001b[0;34m\u001b[0m\u001b[0m\n\u001b[1;32m     20\u001b[0m \u001b[0;31m# Use the model to make predictions\u001b[0m\u001b[0;34m\u001b[0m\u001b[0;34m\u001b[0m\u001b[0m\n\u001b[0;32m---> 21\u001b[0;31m \u001b[0mpredictions\u001b[0m \u001b[0;34m=\u001b[0m \u001b[0mmodel_rf\u001b[0m\u001b[0;34m.\u001b[0m\u001b[0mtransform\u001b[0m\u001b[0;34m(\u001b[0m\u001b[0minput_df\u001b[0m\u001b[0;34m)\u001b[0m\u001b[0;34m\u001b[0m\u001b[0;34m\u001b[0m\u001b[0m\n\u001b[0m\u001b[1;32m     22\u001b[0m \u001b[0;34m\u001b[0m\u001b[0m\n\u001b[1;32m     23\u001b[0m \u001b[0;31m# Extract the predicted crop\u001b[0m\u001b[0;34m\u001b[0m\u001b[0;34m\u001b[0m\u001b[0m\n",
            "\u001b[0;32m/usr/local/lib/python3.10/dist-packages/pyspark/ml/base.py\u001b[0m in \u001b[0;36mtransform\u001b[0;34m(self, dataset, params)\u001b[0m\n\u001b[1;32m    260\u001b[0m                 \u001b[0;32mreturn\u001b[0m \u001b[0mself\u001b[0m\u001b[0;34m.\u001b[0m\u001b[0mcopy\u001b[0m\u001b[0;34m(\u001b[0m\u001b[0mparams\u001b[0m\u001b[0;34m)\u001b[0m\u001b[0;34m.\u001b[0m\u001b[0m_transform\u001b[0m\u001b[0;34m(\u001b[0m\u001b[0mdataset\u001b[0m\u001b[0;34m)\u001b[0m\u001b[0;34m\u001b[0m\u001b[0;34m\u001b[0m\u001b[0m\n\u001b[1;32m    261\u001b[0m             \u001b[0;32melse\u001b[0m\u001b[0;34m:\u001b[0m\u001b[0;34m\u001b[0m\u001b[0;34m\u001b[0m\u001b[0m\n\u001b[0;32m--> 262\u001b[0;31m                 \u001b[0;32mreturn\u001b[0m \u001b[0mself\u001b[0m\u001b[0;34m.\u001b[0m\u001b[0m_transform\u001b[0m\u001b[0;34m(\u001b[0m\u001b[0mdataset\u001b[0m\u001b[0;34m)\u001b[0m\u001b[0;34m\u001b[0m\u001b[0;34m\u001b[0m\u001b[0m\n\u001b[0m\u001b[1;32m    263\u001b[0m         \u001b[0;32melse\u001b[0m\u001b[0;34m:\u001b[0m\u001b[0;34m\u001b[0m\u001b[0;34m\u001b[0m\u001b[0m\n\u001b[1;32m    264\u001b[0m             \u001b[0;32mraise\u001b[0m \u001b[0mTypeError\u001b[0m\u001b[0;34m(\u001b[0m\u001b[0;34m\"Params must be a param map but got %s.\"\u001b[0m \u001b[0;34m%\u001b[0m \u001b[0mtype\u001b[0m\u001b[0;34m(\u001b[0m\u001b[0mparams\u001b[0m\u001b[0;34m)\u001b[0m\u001b[0;34m)\u001b[0m\u001b[0;34m\u001b[0m\u001b[0;34m\u001b[0m\u001b[0m\n",
            "\u001b[0;32m/usr/local/lib/python3.10/dist-packages/pyspark/ml/pipeline.py\u001b[0m in \u001b[0;36m_transform\u001b[0;34m(self, dataset)\u001b[0m\n\u001b[1;32m    302\u001b[0m     \u001b[0;32mdef\u001b[0m \u001b[0m_transform\u001b[0m\u001b[0;34m(\u001b[0m\u001b[0mself\u001b[0m\u001b[0;34m,\u001b[0m \u001b[0mdataset\u001b[0m\u001b[0;34m:\u001b[0m \u001b[0mDataFrame\u001b[0m\u001b[0;34m)\u001b[0m \u001b[0;34m->\u001b[0m \u001b[0mDataFrame\u001b[0m\u001b[0;34m:\u001b[0m\u001b[0;34m\u001b[0m\u001b[0;34m\u001b[0m\u001b[0m\n\u001b[1;32m    303\u001b[0m         \u001b[0;32mfor\u001b[0m \u001b[0mt\u001b[0m \u001b[0;32min\u001b[0m \u001b[0mself\u001b[0m\u001b[0;34m.\u001b[0m\u001b[0mstages\u001b[0m\u001b[0;34m:\u001b[0m\u001b[0;34m\u001b[0m\u001b[0;34m\u001b[0m\u001b[0m\n\u001b[0;32m--> 304\u001b[0;31m             \u001b[0mdataset\u001b[0m \u001b[0;34m=\u001b[0m \u001b[0mt\u001b[0m\u001b[0;34m.\u001b[0m\u001b[0mtransform\u001b[0m\u001b[0;34m(\u001b[0m\u001b[0mdataset\u001b[0m\u001b[0;34m)\u001b[0m\u001b[0;34m\u001b[0m\u001b[0;34m\u001b[0m\u001b[0m\n\u001b[0m\u001b[1;32m    305\u001b[0m         \u001b[0;32mreturn\u001b[0m \u001b[0mdataset\u001b[0m\u001b[0;34m\u001b[0m\u001b[0;34m\u001b[0m\u001b[0m\n\u001b[1;32m    306\u001b[0m \u001b[0;34m\u001b[0m\u001b[0m\n",
            "\u001b[0;32m/usr/local/lib/python3.10/dist-packages/pyspark/ml/base.py\u001b[0m in \u001b[0;36mtransform\u001b[0;34m(self, dataset, params)\u001b[0m\n\u001b[1;32m    260\u001b[0m                 \u001b[0;32mreturn\u001b[0m \u001b[0mself\u001b[0m\u001b[0;34m.\u001b[0m\u001b[0mcopy\u001b[0m\u001b[0;34m(\u001b[0m\u001b[0mparams\u001b[0m\u001b[0;34m)\u001b[0m\u001b[0;34m.\u001b[0m\u001b[0m_transform\u001b[0m\u001b[0;34m(\u001b[0m\u001b[0mdataset\u001b[0m\u001b[0;34m)\u001b[0m\u001b[0;34m\u001b[0m\u001b[0;34m\u001b[0m\u001b[0m\n\u001b[1;32m    261\u001b[0m             \u001b[0;32melse\u001b[0m\u001b[0;34m:\u001b[0m\u001b[0;34m\u001b[0m\u001b[0;34m\u001b[0m\u001b[0m\n\u001b[0;32m--> 262\u001b[0;31m                 \u001b[0;32mreturn\u001b[0m \u001b[0mself\u001b[0m\u001b[0;34m.\u001b[0m\u001b[0m_transform\u001b[0m\u001b[0;34m(\u001b[0m\u001b[0mdataset\u001b[0m\u001b[0;34m)\u001b[0m\u001b[0;34m\u001b[0m\u001b[0;34m\u001b[0m\u001b[0m\n\u001b[0m\u001b[1;32m    263\u001b[0m         \u001b[0;32melse\u001b[0m\u001b[0;34m:\u001b[0m\u001b[0;34m\u001b[0m\u001b[0;34m\u001b[0m\u001b[0m\n\u001b[1;32m    264\u001b[0m             \u001b[0;32mraise\u001b[0m \u001b[0mTypeError\u001b[0m\u001b[0;34m(\u001b[0m\u001b[0;34m\"Params must be a param map but got %s.\"\u001b[0m \u001b[0;34m%\u001b[0m \u001b[0mtype\u001b[0m\u001b[0;34m(\u001b[0m\u001b[0mparams\u001b[0m\u001b[0;34m)\u001b[0m\u001b[0;34m)\u001b[0m\u001b[0;34m\u001b[0m\u001b[0;34m\u001b[0m\u001b[0m\n",
            "\u001b[0;32m/usr/local/lib/python3.10/dist-packages/pyspark/ml/wrapper.py\u001b[0m in \u001b[0;36m_transform\u001b[0;34m(self, dataset)\u001b[0m\n\u001b[1;32m    396\u001b[0m \u001b[0;34m\u001b[0m\u001b[0m\n\u001b[1;32m    397\u001b[0m         \u001b[0mself\u001b[0m\u001b[0;34m.\u001b[0m\u001b[0m_transfer_params_to_java\u001b[0m\u001b[0;34m(\u001b[0m\u001b[0;34m)\u001b[0m\u001b[0;34m\u001b[0m\u001b[0;34m\u001b[0m\u001b[0m\n\u001b[0;32m--> 398\u001b[0;31m         \u001b[0;32mreturn\u001b[0m \u001b[0mDataFrame\u001b[0m\u001b[0;34m(\u001b[0m\u001b[0mself\u001b[0m\u001b[0;34m.\u001b[0m\u001b[0m_java_obj\u001b[0m\u001b[0;34m.\u001b[0m\u001b[0mtransform\u001b[0m\u001b[0;34m(\u001b[0m\u001b[0mdataset\u001b[0m\u001b[0;34m.\u001b[0m\u001b[0m_jdf\u001b[0m\u001b[0;34m)\u001b[0m\u001b[0;34m,\u001b[0m \u001b[0mdataset\u001b[0m\u001b[0;34m.\u001b[0m\u001b[0msparkSession\u001b[0m\u001b[0;34m)\u001b[0m\u001b[0;34m\u001b[0m\u001b[0;34m\u001b[0m\u001b[0m\n\u001b[0m\u001b[1;32m    399\u001b[0m \u001b[0;34m\u001b[0m\u001b[0m\n\u001b[1;32m    400\u001b[0m \u001b[0;34m\u001b[0m\u001b[0m\n",
            "\u001b[0;32m/usr/local/lib/python3.10/dist-packages/py4j/java_gateway.py\u001b[0m in \u001b[0;36m__call__\u001b[0;34m(self, *args)\u001b[0m\n\u001b[1;32m   1320\u001b[0m \u001b[0;34m\u001b[0m\u001b[0m\n\u001b[1;32m   1321\u001b[0m         \u001b[0manswer\u001b[0m \u001b[0;34m=\u001b[0m \u001b[0mself\u001b[0m\u001b[0;34m.\u001b[0m\u001b[0mgateway_client\u001b[0m\u001b[0;34m.\u001b[0m\u001b[0msend_command\u001b[0m\u001b[0;34m(\u001b[0m\u001b[0mcommand\u001b[0m\u001b[0;34m)\u001b[0m\u001b[0;34m\u001b[0m\u001b[0;34m\u001b[0m\u001b[0m\n\u001b[0;32m-> 1322\u001b[0;31m         return_value = get_return_value(\n\u001b[0m\u001b[1;32m   1323\u001b[0m             answer, self.gateway_client, self.target_id, self.name)\n\u001b[1;32m   1324\u001b[0m \u001b[0;34m\u001b[0m\u001b[0m\n",
            "\u001b[0;32m/usr/local/lib/python3.10/dist-packages/pyspark/errors/exceptions/captured.py\u001b[0m in \u001b[0;36mdeco\u001b[0;34m(*a, **kw)\u001b[0m\n\u001b[1;32m    183\u001b[0m                 \u001b[0;31m# Hide where the exception came from that shows a non-Pythonic\u001b[0m\u001b[0;34m\u001b[0m\u001b[0;34m\u001b[0m\u001b[0m\n\u001b[1;32m    184\u001b[0m                 \u001b[0;31m# JVM exception message.\u001b[0m\u001b[0;34m\u001b[0m\u001b[0;34m\u001b[0m\u001b[0m\n\u001b[0;32m--> 185\u001b[0;31m                 \u001b[0;32mraise\u001b[0m \u001b[0mconverted\u001b[0m \u001b[0;32mfrom\u001b[0m \u001b[0;32mNone\u001b[0m\u001b[0;34m\u001b[0m\u001b[0;34m\u001b[0m\u001b[0m\n\u001b[0m\u001b[1;32m    186\u001b[0m             \u001b[0;32melse\u001b[0m\u001b[0;34m:\u001b[0m\u001b[0;34m\u001b[0m\u001b[0;34m\u001b[0m\u001b[0m\n\u001b[1;32m    187\u001b[0m                 \u001b[0;32mraise\u001b[0m\u001b[0;34m\u001b[0m\u001b[0;34m\u001b[0m\u001b[0m\n",
            "\u001b[0;31mIllegalArgumentException\u001b[0m: features does not exist. Available: PM2, PM10, NO, NO2, NOx, CO, SO2, O3, AQI"
          ]
        }
      ]
    }
  ]
}